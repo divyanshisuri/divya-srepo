{
 "cells": [
  {
   "cell_type": "markdown",
   "metadata": {},
   "source": [
    "# Unit 6 Array Hacks\n",
    "- toc: true \n",
    "- badges: true\n",
    "- comments: true\n",
    "- categories: [jupyter]"
   ]
  },
  {
   "cell_type": "markdown",
   "metadata": {},
   "source": [
    "## Hack 1\n",
    "How do we access the even numbers in arrayOne from above?"
   ]
  },
  {
   "cell_type": "code",
   "execution_count": 79,
   "metadata": {
    "vscode": {
     "languageId": "java"
    }
   },
   "outputs": [
    {
     "name": "stdout",
     "output_type": "stream",
     "text": [
      "8\n"
     ]
    }
   ],
   "source": [
    "public class FindEven{  \n",
    "    public static void main(String args[]){ \n",
    "int arrayOne[]= {1, 3, 5, 7, 8}; //changed 9 to 8\n",
    "\n",
    "for (int i = 0; i < arrayOne.length; i++) {\n",
    "    if (arrayOne[i]%2 == 0){\n",
    "        System.out.println(arrayOne[i]);\n",
    "    }\n",
    "}\n",
    "}\n",
    "}\n",
    "\n",
    "FindEven.main(null);\n",
    "\n"
   ]
  },
  {
   "cell_type": "markdown",
   "metadata": {},
   "source": [
    "## Hack 2\n",
    "Which of the following is FALSE about arrays\n",
    "\n",
    "A. A java array is an object\n",
    "B. Length of array can be changed after creation of array\n",
    "C. Numerical data types of arrays are initialized to 0 to start\n",
    "\n",
    "B"
   ]
  },
  {
   "cell_type": "markdown",
   "metadata": {},
   "source": [
    "## Hack 3\n",
    "Create a function that takes in a list of integers and returns the list with the integers in ascending order. Print every element in this list\n",
    "\n",
    "Example\n",
    "int[] myNumbers = new int[] {5, 3, 4, 1, 2};\n",
    "arraySorter(myNumbers);\n",
    "Expected Output\n",
    "1\n",
    "2\n",
    "3\n",
    "4\n",
    "5"
   ]
  },
  {
   "cell_type": "code",
   "execution_count": 80,
   "metadata": {
    "vscode": {
     "languageId": "java"
    }
   },
   "outputs": [
    {
     "name": "stdout",
     "output_type": "stream",
     "text": [
      "1\n",
      "2\n",
      "3\n",
      "4\n",
      "5\n"
     ]
    }
   ],
   "source": [
    "public class Ascend{  \n",
    "    public static void main(String args[]){ \n",
    "        \n",
    "int[] myNumbers = new int[] {5, 3, 4, 1, 2};\n",
    "\n",
    "Arrays.sort(myNumbers);  //use sort() method of the Arrays class\n",
    "\n",
    "for (int i = 0; i < myNumbers.length; i++) {\n",
    "\n",
    "            System.out.println(myNumbers[i]);\n",
    "        }\n",
    "      }\n",
    "    }\n",
    "\n",
    "\n",
    "Ascend.main(null);\n"
   ]
  },
  {
   "cell_type": "code",
   "execution_count": 81,
   "metadata": {
    "vscode": {
     "languageId": "java"
    }
   },
   "outputs": [
    {
     "name": "stdout",
     "output_type": "stream",
     "text": [
      "1\n",
      "2\n",
      "3\n",
      "4\n",
      "5\n"
     ]
    }
   ],
   "source": [
    "public class Ascend2{  \n",
    "    public static void main(String args[]){ \n",
    "        \n",
    "int[] myNumbers = new int[] {5, 3, 4, 1, 2};\n",
    "\n",
    "for (int i = 0; i < myNumbers.length; i++)   {    //using for loops and logics\n",
    "for (int j = i + 1; j < myNumbers.length; j++)  {  \n",
    "int tmp = 0; \n",
    "if (myNumbers[i] > myNumbers[j])   {  \n",
    "tmp = myNumbers[i];  \n",
    "myNumbers[i] = myNumbers[j];  \n",
    "myNumbers[j] = tmp;  \n",
    "    }  \n",
    "}  \n",
    "            System.out.println(myNumbers[i]); \n",
    "        }     \n",
    "    }\n",
    "}\n",
    "\n",
    "Ascend2.main(null);"
   ]
  },
  {
   "cell_type": "markdown",
   "metadata": {},
   "source": [
    "Hack 4\n",
    "Given the following code segment, which of the following will cause an infinite loop? Assume that temp is an int variable initialized to be greater than zero and that a is an array of integers."
   ]
  },
  {
   "cell_type": "markdown",
   "metadata": {},
   "source": [
    "for ( int k = 0; k < a.length; k++ )\n",
    "{\n",
    "   while ( a[ k ] < temp )\n",
    "   {\n",
    "      a[ k ] *= 2;\n",
    "   }\n",
    "}"
   ]
  },
  {
   "cell_type": "markdown",
   "metadata": {},
   "source": [
    "B\n",
    "\n",
    "When a contains a value that is less than or equal to zero then multiplying that value by 2 will never make the result larger than temp (which was set to some value > 0), so an infinite loop will occur."
   ]
  },
  {
   "cell_type": "markdown",
   "metadata": {},
   "source": [
    "6.3 Enhanced for loop for Arrays\n",
    "\n",
    "- can only traverse in a forward direction"
   ]
  },
  {
   "cell_type": "code",
   "execution_count": 82,
   "metadata": {
    "vscode": {
     "languageId": "java"
    }
   },
   "outputs": [
    {
     "ename": "CompilationException",
     "evalue": "",
     "output_type": "error",
     "traceback": [
      "\u001b[1m\u001b[30m|   \u001b[1m\u001b[30m    do something with\u001b[0m\u001b[1m\u001b[30m\u001b[41m\u001b[0m\u001b[1m\u001b[30m i\u001b[0m",
      "\u001b[1m\u001b[31m';' expected\u001b[0m",
      "",
      "\u001b[1m\u001b[30m|   \u001b[1m\u001b[30m    do \u001b[0m\u001b[1m\u001b[30m\u001b[41msomething with \u001b[0m\u001b[1m\u001b[30mi\u001b[0m",
      "\u001b[1m\u001b[31mvariable declaration not allowed here\u001b[0m",
      "",
      "\u001b[1m\u001b[30m|   \u001b[1m\u001b[30m    do something with i\u001b[0m\u001b[1m\u001b[30m\u001b[41m\u001b[0m\u001b[1m\u001b[30m\u001b[0m",
      "\u001b[1m\u001b[31m')' expected\u001b[0m",
      ""
     ]
    }
   ],
   "source": [
    "for (dataType i: arrayName) {\n",
    "    do something with i\n",
    "  }"
   ]
  },
  {
   "cell_type": "markdown",
   "metadata": {},
   "source": [
    "## Hack 5\n",
    "In this example, each loop includes an int array and a String array. Try adding another high score and another name to the arrays and see if you can get it to run."
   ]
  },
  {
   "cell_type": "code",
   "execution_count": null,
   "metadata": {
    "vscode": {
     "languageId": "java"
    }
   },
   "outputs": [],
   "source": [
    "public class ForEachDemo\n",
    "{\n",
    "   public static void main(String[] args)\n",
    "   {\n",
    "     int[] highScores = { 10, 9, 8, 8};\n",
    "     String[] names = {\"Jamal\", \"Emily\", \"Destiny\", \"Mateo\"};\n",
    "     // for each loop with an int array\n",
    "     for (int value : highScores)\n",
    "     {\n",
    "         System.out.println( value );\n",
    "     }\n",
    "     // for each loop with a String array\n",
    "     for (String value : names)\n",
    "     {\n",
    "         System.out.println(value); // this time it's a name!\n",
    "     }\n",
    "   }\n",
    " }\n"
   ]
  },
  {
   "cell_type": "markdown",
   "metadata": {},
   "source": [
    "Attempted to add element to array in the above code failed. \n",
    "Below, attempting to add element to an int array by creating a new array\n",
    "- Create a new array of size n+1, where n is the size of the original array.\n",
    "- Add the n elements of the original array in this array.\n",
    "- Add the new element in the n+1 th position.\n",
    "- Print the new array."
   ]
  },
  {
   "cell_type": "code",
   "execution_count": null,
   "metadata": {
    "vscode": {
     "languageId": "java"
    }
   },
   "outputs": [
    {
     "name": "stdout",
     "output_type": "stream",
     "text": [
      "[10, 9, 8, 8]\n",
      "[10, 9, 8, 8, 50]\n"
     ]
    }
   ],
   "source": [
    "import java.io.*;\n",
    "import java.lang.*;\n",
    "import java.util.*;\n",
    "  \n",
    "\n",
    "public class AddElement {\n",
    "   \n",
    "   // Function to add x in arr\n",
    "   public static int[] addX(int n, int highScores[], int x)\n",
    "   {\n",
    "   \n",
    "       // create a new array of size n+1\n",
    "       int newarr[] = new int[n + 1];\n",
    "   \n",
    "       // insert the elements from\n",
    "       // the old array into the new array\n",
    "       // insert all elements till n\n",
    "       // then insert x at n+1\n",
    "       for (int i = 0; i < n; i++)\n",
    "           newarr[i] = highScores[i];\n",
    "   \n",
    "       newarr[n] = x;\n",
    "   \n",
    "       return newarr;\n",
    "   }\n",
    "   \n",
    "   // Driver code\n",
    "   public static void main(String[] args)\n",
    "   {\n",
    "       int n = 4;\n",
    "       // initial array of size 10\n",
    "       int[] highScores = {10, 9, 8, 8};\n",
    "   \n",
    "       // print the original array\n",
    "       System.out.println(Arrays.toString(highScores));\n",
    "   \n",
    "       // element to be added\n",
    "       int x = 50;\n",
    "   \n",
    "       // call the method to add x in arr\n",
    "       highScores = addX(n, highScores, x);\n",
    "   \n",
    "       // print the updated array\n",
    "       System.out.println(Arrays.toString(highScores));\n",
    "   }\n",
    "}\n",
    "\n",
    "AddElement.main(null);"
   ]
  },
  {
   "cell_type": "markdown",
   "metadata": {},
   "source": [
    "Figured out that I misunderstood the hack.\n",
    "It's just asking to see if it can run. This is the runtime after directly adding new values to arrays."
   ]
  },
  {
   "cell_type": "code",
   "execution_count": null,
   "metadata": {
    "vscode": {
     "languageId": "java"
    }
   },
   "outputs": [
    {
     "name": "stdout",
     "output_type": "stream",
     "text": [
      "10\n",
      "9\n",
      "8\n",
      "8\n",
      "5\n",
      "Jamal\n",
      "Emily\n",
      "Destiny\n",
      "Mateo\n",
      "Linda\n"
     ]
    }
   ],
   "source": [
    "public class ForEachDemo\n",
    "{\n",
    "   public static void main(String[] args)\n",
    "   {\n",
    "     int[] highScores = { 10, 9, 8, 8, 5};\n",
    "     String[] names = {\"Jamal\", \"Emily\", \"Destiny\", \"Mateo\", \"Linda\"};\n",
    "     // for each loop with an int array\n",
    "     for (int value : highScores)\n",
    "     {\n",
    "         System.out.println( value );\n",
    "     }\n",
    "     // for each loop with a String array\n",
    "     for (String value : names)\n",
    "     {\n",
    "         System.out.println(value); // this time it's a name!\n",
    "     }\n",
    "   }\n",
    " }\n",
    "\n",
    " ForEachDemo.main(null);"
   ]
  },
  {
   "cell_type": "markdown",
   "metadata": {},
   "source": [
    "## Hack 6\n",
    "What code would you add to the following to output the length of each String that's returned from the below method? Choose A, B, C, or D."
   ]
  },
  {
   "cell_type": "markdown",
   "metadata": {},
   "source": [
    "B"
   ]
  },
  {
   "cell_type": "markdown",
   "metadata": {},
   "source": [
    "## Hack 7\n",
    "Return a left-shifted array\n",
    "\n",
    "Ex\n",
    "\n",
    "{7,9,4} --> {9,4,7}\n",
    "\n",
    "{1,2,3} --> {2,3,1}\n",
    "\n",
    "{0,9} --> {9,0}\n",
    "\n",
    "{1} --> {1}"
   ]
  },
  {
   "cell_type": "code",
   "execution_count": null,
   "metadata": {
    "vscode": {
     "languageId": "java"
    }
   },
   "outputs": [
    {
     "name": "stdout",
     "output_type": "stream",
     "text": [
      "Original array: \n",
      "7 9 4 \n",
      "Array after left rotation: \n",
      "9 4 7 "
     ]
    }
   ],
   "source": [
    "class RotateLeft {  \n",
    "    public static void main(String[] args) {  \n",
    "        //Initialize array  \n",
    "        int [] arr = new int [] {7, 9, 4};  \n",
    "        //n determine the number of times an array should be rotated  \n",
    "        int n = 1;  \n",
    "        //Displays original array  \n",
    "        System.out.println(\"Original array: \");  \n",
    "        for (int i = 0; i < arr.length; i++) {  \n",
    "            System.out.print(arr[i] + \" \");  \n",
    "        }  \n",
    "        //Rotate the given array by n times toward left  \n",
    "        for(int i = 0; i < n; i++){  \n",
    "            int j, first;  \n",
    "            //Stores the first element of the array  \n",
    "            first = arr[0];  \n",
    "            for(j = 0; j < arr.length-1; j++){  \n",
    "                //Shift element of array by one  \n",
    "                arr[j] = arr[j+1];  \n",
    "            }  \n",
    "            //First element of array will be added to the end  \n",
    "            arr[j] = first;  \n",
    "        }  \n",
    "        System.out.println();  \n",
    "        //Displays resulting array after rotation  \n",
    "        System.out.println(\"Array after left rotation: \");  \n",
    "        for(int i = 0; i< arr.length; i++){  \n",
    "            System.out.print(arr[i] + \" \");  \n",
    "        }  \n",
    "    }  \n",
    "}  \n",
    "\n",
    "RotateLeft.main(null);"
   ]
  },
  {
   "cell_type": "markdown",
   "metadata": {},
   "source": [
    "## Hack 8\n",
    "Find the number of duplicate elements in an array."
   ]
  },
  {
   "cell_type": "code",
   "execution_count": null,
   "metadata": {
    "vscode": {
     "languageId": "java"
    }
   },
   "outputs": [
    {
     "name": "stdout",
     "output_type": "stream",
     "text": [
      "Numbers of duplicate elements: 2\n"
     ]
    }
   ],
   "source": [
    "public class Duplicate {\n",
    "\n",
    "    public static void main(String[] args) {\n",
    "        int[] values = {1,2,1,3,1,4};\n",
    "        duplicate(values);\n",
    "    }\n",
    "\n",
    "    public static void duplicate(int numbers[]) {\n",
    "        Arrays.sort(numbers);  //first sort\n",
    "        int previous = numbers[0] - 1;\n",
    "        \n",
    "        int dupCount = 0; //counter\n",
    "\n",
    "        for (int i = 0; i < numbers.length; ++i) {\n",
    "            if (numbers[i] == previous) { //if equal, counter + 1\n",
    "                ++dupCount;\n",
    "            } else {\n",
    "                previous = numbers[i];\n",
    "            }\n",
    "        }\n",
    "        System.out.println(\"Numbers of duplicate elements: \" + dupCount);\n",
    "    }\n",
    "}\n",
    "\n",
    "Duplicate.main(null);"
   ]
  },
  {
   "cell_type": "markdown",
   "metadata": {},
   "source": [
    "## Hack 9\n",
    "Use arrays to reverse a string.\n",
    "\n",
    "Ex\n",
    "\n",
    "\"hello\" --> \"olleh\"\n",
    "\n",
    "\"slay\" --> \"yals\"\n",
    "\n",
    "\"mom\" --> \"mom\""
   ]
  },
  {
   "cell_type": "code",
   "execution_count": null,
   "metadata": {
    "vscode": {
     "languageId": "java"
    }
   },
   "outputs": [
    {
     "name": "stdout",
     "output_type": "stream",
     "text": [
      "Original Array:\n",
      "h  e  l  l  o  \n",
      "Reverse order:\n",
      "o  l  l  e  h  "
     ]
    }
   ],
   "source": [
    "public class Reverse\n",
    "{\n",
    "    public static void main(String[] args) {\n",
    "    String[] Array = {\"h\", \"e\", \"l\", \"l\", \"o\"};\n",
    "     \n",
    "  //print array starting from first element\n",
    "    System.out.println(\"Original Array:\");\n",
    "    for(int i=0;i<Array.length;i++)\n",
    "         System.out.print(Array[i] + \"  \");\n",
    "     \n",
    "    System.out.println();\n",
    "     \n",
    "    //print array starting from last element\n",
    "    System.out.println(\"Reverse order:\");\n",
    "         for(int i=Array.length-1;i>=0;i--)\n",
    "         System.out.print(Array[i] + \"  \");\n",
    "    }\n",
    "}\n",
    "\n",
    "Reverse.main(null);"
   ]
  },
  {
   "cell_type": "markdown",
   "metadata": {},
   "source": [
    "## FRQ Part A"
   ]
  },
  {
   "cell_type": "markdown",
   "metadata": {},
   "source": [
    "Write the ClubMembers method addMembers, which takes two parameters. The first parameter is a String array containing the names of new club members to be added. The second parameter is the graduation year of all the new club members. The method adds the new members to the memberList instance variable. The names can be added in any order. All members added are initially in good standing and share the same graduation year, gradYear.\n",
    "\n",
    "Complete the addMembers method."
   ]
  },
  {
   "cell_type": "code",
   "execution_count": null,
   "metadata": {
    "vscode": {
     "languageId": "java"
    }
   },
   "outputs": [],
   "source": [
    "public void addMembers(String[] names, int gradYear)\n",
    "{\n",
    "    for (int i =0; i < addMembers.length; i++){ . //for loop to loops through all members\n",
    "        memberList.add(new MemberInfo(name, gradYear, true)); //add member to memberList\n",
    "    }\n",
    "}"
   ]
  }
 ],
 "metadata": {
  "kernelspec": {
   "display_name": "Java",
   "language": "java",
   "name": "java"
  },
  "language_info": {
   "codemirror_mode": "java",
   "file_extension": ".jshell",
   "mimetype": "text/x-java-source",
   "name": "Java",
   "pygments_lexer": "java",
   "version": "17.0.5+0"
  },
  "orig_nbformat": 4
 },
 "nbformat": 4,
 "nbformat_minor": 2
}
