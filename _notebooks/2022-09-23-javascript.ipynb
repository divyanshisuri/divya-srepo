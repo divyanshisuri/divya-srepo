{
 "cells": [
  {
   "cell_type": "markdown",
   "metadata": {},
   "source": [
    "# JavaScript\n",
    "- toc: true \n",
    "- badges: true\n",
    "- comments: true\n",
    "- categories: [jupyter]"
   ]
  },
  {
   "cell_type": "markdown",
   "metadata": {},
   "source": [
    "## Build a Person Function/Class object and JSON"
   ]
  },
  {
   "cell_type": "code",
   "execution_count": 50,
   "metadata": {},
   "outputs": [
    {
     "name": "stdout",
     "output_type": "stream",
     "text": [
      "object ; Person { name: 'Divya', ghID: 'DivyaSuri', age: 16, role: '' }\n",
      "string ; {\"name\":\"Divya\",\"ghID\":\"DivyaSuri\",\"age\":16,\"role\":\"\"}\n",
      "object ; Person { name: 'Divya', ghID: 'DivyaSuri', age: 16, role: 'student' }\n",
      "string ; {\"name\":\"Divya\",\"ghID\":\"DivyaSuri\",\"age\":16,\"role\":\"student\"}\n"
     ]
    }
   ],
   "source": [
    "// define function logItType\n",
    "function logItType(output) {\n",
    "    console.log(typeof output, \";\", output); //will print out the type of data, semicolon, and the data itself\n",
    "}\n",
    "\n",
    "// define a function to hold data for a Person\n",
    "function Person(name, ghID, age) {\n",
    "    this.name = name;\n",
    "    this.ghID = ghID;\n",
    "    this.age = age;\n",
    "    this.role = \"\";\n",
    "}\n",
    "\n",
    "// define a setter for role in Person data\n",
    "Person.prototype.setRole = function(role) { //Definition of a prototype allow for the definition of a method associated with the function<\n",
    "    this.role = role;\n",
    "}\n",
    "\n",
    "// define a JSON conversion \"method\" associated with Person\n",
    "Person.prototype.toJSON = function() {\n",
    "    const obj = {name: this.name, ghID: this.ghID, age: this.age, role: this.role};\n",
    "    const json = JSON.stringify(obj);  // json/string is useful when passing data on internet\n",
    "    return json;\n",
    "}\n",
    "\n",
    "// make a new Person and assign to variable student\n",
    "var student = new Person(\"Divya\", \"DivyaSuri\", 16);  // object type is easy to work with in JavaScript\n",
    "logItType(student);  // before role\n",
    "logItType(student.toJSON());  // ok to do this even though role is not yet defined\n",
    "\n",
    "// output of Object and JSON/string associated with student\n",
    "student.setRole(\"student\");   // set the role\n",
    "logItType(student); \n",
    "logItType(student.toJSON());  "
   ]
  },
  {
   "cell_type": "markdown",
   "metadata": {},
   "source": [
    "## Build a Website Array/List of Persons and JSON"
   ]
  },
  {
   "cell_type": "code",
   "execution_count": 51,
   "metadata": {},
   "outputs": [
    {
     "name": "stdout",
     "output_type": "stream",
     "text": [
      "object ; Person { name: 'Divya', number: 8581234567, age: 16, role: '' }\n",
      "string ; {\"name\":\"Divya\",\"number\":8581234567,\"age\":16,\"role\":\"\"}\n",
      "object ; Person { name: 'Divya', number: 8581234567, age: 16, role: 'Coder' }\n",
      "string ; {\"name\":\"Divya\",\"number\":8581234567,\"age\":16,\"role\":\"Coder\"}\n"
     ]
    }
   ],
   "source": [
    "function logItType(output) {\n",
    "    console.log(typeof output, \";\", output); //will print out the type of data, semicolon, and the data itself\n",
    "}\n",
    "\n",
    "\n",
    "function Person(name, number, age) {\n",
    "    this.name = name;\n",
    "    this.number = number;\n",
    "    this.age = age;\n",
    "    this.role = \"\";\n",
    "}\n",
    "\n",
    "Person.prototype.setRole = function(role) { //Definition of a prototype allow for the definition of a method associated with the function<\n",
    "    this.role = role;\n",
    "}\n",
    "\n",
    "\n",
    "Person.prototype.toJSON = function() {\n",
    "    const obj = {name: this.name, number: this.number, age: this.age, role: this.role};\n",
    "    const json = JSON.stringify(obj);  // json/string is useful when passing data on internet\n",
    "    return json;\n",
    "}\n",
    "\n",
    "var coder = new Person(\"Divya\", 8581234567, 15);  // object type is easy to work with in JavaScript\n",
    "logItType(coder);  // before role\n",
    "logItType(coder.toJSON());  // ok to do this even though role is not yet defined\n",
    "\n",
    "\n",
    "coder.setRole(\"Coder\");   // set the role\n",
    "logItType(coder); \n",
    "logItType(coder.toJSON()); "
   ]
  },
  {
   "cell_type": "code",
   "execution_count": 52,
   "metadata": {},
   "outputs": [
    {
     "name": "stdout",
     "output_type": "stream",
     "text": [
      "object ; [ Person { name: 'Divya', number: 8581234567, age: 16, role: 'Coder' },\n",
      "  Person { name: 'Grace', number: '8588888888', age: 17, role: 'User' },\n",
      "  Person { name: 'Ellen', number: '8583947583', age: 17, role: 'User' },\n",
      "  Person { name: 'Jeje', number: '8583948501', age: 17, role: 'User' },\n",
      "  Person { name: 'Charvi', number: '8583749284', age: 17, role: 'User' },\n",
      "  Person { name: 'Alison', number: '8583749843', age: 17, role: 'User' } ]\n",
      "string ; Divya\n",
      "string ; {\"name\":\"Divya\",\"number\":8581234567,\"age\":16,\"role\":\"Coder\"}\n",
      "object ; { name: 'Divya', number: 8581234567, age: 16, role: 'Coder' }\n"
     ]
    }
   ],
   "source": [
    "// define a user Array of Person(s)\n",
    "var users = [ \n",
    "    new Person(\"Kat\", \"8588888888\", 17),\n",
    "    new Person(\"Saumya\", \"8583947583\", 19),\n",
    "    new Person(\"Qian\", \"8583948501\", 18),\n",
    "    new Person(\"Lucia\", \"8583749284\", 16),\n",
    "    new Person(\"Sarah\", \"8583749843\", 15)\n",
    "];\n",
    "\n",
    "// define a website and build Website objects and json\n",
    "function Website(coder, users){ // 1 teacher, many student\n",
    "    // start website with Coder\n",
    "\n",
    "    this.coder = coder;\n",
    "    this.website = [coder];\n",
    "    // add each User to Website\n",
    "    this.users = users;\n",
    "    this.users.forEach(user => { user.setRole(\"User\"); this.website.push(user); });\n",
    "    // build json/string format of Website\n",
    "    this.json = [];\n",
    "    this.website.forEach(person => this.json.push(person.toJSON()));\n",
    "}\n",
    "\n",
    "// make a travel webiste from formerly defined coder and users\n",
    "travel = new Website(coder, users);\n",
    "\n",
    "// output of Objects and JSON in Travel website\n",
    "logItType(travel.website);  // constructed website object\n",
    "logItType(travel.website[0].name);  // abstract 1st objects name\n",
    "logItType(travel.json[0]);  // show json conversion of 1st object to string\n",
    "logItType(JSON.parse(travel.json[0]));  // show JSON.parse inverse of JSON.stringify"
   ]
  },
  {
   "cell_type": "markdown",
   "metadata": {},
   "source": [
    "## IJavaScript and Table formatting using toHTML method"
   ]
  },
  {
   "cell_type": "code",
   "execution_count": 53,
   "metadata": {},
   "outputs": [
    {
     "data": {
      "text/html": [
       "<div style='display:inline-block;border: 2px solid white;box-shadow: 0.4em 0.4em 0.4em white;'><table><tr><th><mark>Name</mark></th><th><mark>Number</mark></th><th><mark>Age</mark></th><th><mark>Role</mark></th></tr><tr><td>Divya</td><td>8581234567</td><td>15</td><td>Coder</td><tr><tr><td>Emily</td><td>8588888888</td><td>17</td><td>User</td><tr><tr><td>Alice</td><td>8583947583</td><td>19</td><td>User</td><tr><tr><td>Chloe</td><td>8583948501</td><td>18</td><td>User</td><tr><tr><td>Ann</td><td>8583749284</td><td>16</td><td>User</td><tr><tr><td>Abby</td><td>8583749843</td><td>15</td><td>User</td><tr></table></div>"
      ]
     },
     "execution_count": 53,
     "metadata": {},
     "output_type": "execute_result"
    }
   ],
   "source": [
    "// define an HTML conversion \"method\" associated with Webiste\n",
    "Website.prototype._toHtml = function() {\n",
    "    // HTML Style is build using inline structure\n",
    "    var style = (\n",
    "      \"display:inline-block;\" +\n",
    "      \"border: 2px solid white;\" +\n",
    "      \"box-shadow: 0.4em 0.4em 0.4em white;\"\n",
    "    );\n",
    "  \n",
    "    // HTML Body of Table is build as a series of concatenations (+=)\n",
    "    var body = \"\";\n",
    "    // Heading for Array Columns\n",
    "    body += \"<tr>\";\n",
    "    body += \"<th><mark>\" + \"Name\" + \"</mark></th>\";\n",
    "    body += \"<th><mark>\" + \"Number\" + \"</mark></th>\";\n",
    "    body += \"<th><mark>\" + \"Age\" + \"</mark></th>\";\n",
    "    body += \"<th><mark>\" + \"Role\" + \"</mark></th>\";\n",
    "    body += \"</tr>\";\n",
    "    // Data of Array, iterate through each row of travel.website \n",
    "    for (var row in travel.website) {\n",
    "      // tr for each row, a new line\n",
    "      body += \"<tr>\";\n",
    "      // td for each column of data\n",
    "      body += \"<td>\" + travel.website[row].name + \"</td>\";\n",
    "      body += \"<td>\" + travel.website[row].number + \"</td>\";\n",
    "      body += \"<td>\" + travel.website[row].age + \"</td>\";\n",
    "      body += \"<td>\" + travel.website[row].role + \"</td>\";\n",
    "      // tr to end line\n",
    "      body += \"<tr>\";\n",
    "    }\n",
    "  \n",
    "     // Build and HTML fragment of div, table, table body\n",
    "    return (\n",
    "      \"<div style='\" + style + \"'>\" +\n",
    "        \"<table>\" +\n",
    "          body +\n",
    "        \"</table>\" +\n",
    "      \"</div>\"\n",
    "    );\n",
    "  \n",
    "  };\n",
    "  \n",
    "  // IJavaScript HTML processor receive parameter of defined HTML fragment\n",
    "  $$.html(travel._toHtml());"
   ]
  },
  {
   "cell_type": "markdown",
   "metadata": {},
   "source": [
    "## Team Project (travel website) Itinerary Table"
   ]
  },
  {
   "cell_type": "code",
   "execution_count": 55,
   "metadata": {},
   "outputs": [
    {
     "name": "stdout",
     "output_type": "stream",
     "text": [
      "Itinerary Example\n"
     ]
    },
    {
     "data": {
      "text/html": [
       "<div style='display:inline-block;border: 2px solid white;background-color: white;color: black;'><table><tr><th><mark>Start Date</mark></th><th><mark>Destination</mark></th><th><mark>End Date</mark></th><th><mark>Month</mark></th></tr><tr><td>8/20</td><td>Los Angeles</td><td>8/22</td><td>August</td><tr><tr><td>9/5</td><td>China</td><td>9/30</td><td>September</td><tr><tr><td>9/17</td><td>Hawii</td><td>9/20</td><td>September</td><tr><tr><td>9/21</td><td>Japan</td><td>9/27</td><td>September</td><tr><tr><td>9/23</td><td>Korea</td><td>9/29</td><td>September</td><tr><tr><td>9/25</td><td>New York</td><td>9/28</td><td>September</td><tr></table></div>"
      ]
     },
     "execution_count": 55,
     "metadata": {},
     "output_type": "execute_result"
    }
   ],
   "source": [
    "function logItType(output) {\n",
    "  console.log(typeof output, \";\", output); //will print out the type of data, semicolon, and the data itself\n",
    "}\n",
    "\n",
    "function Time(start, destination, end) {\n",
    "  this.start = start;\n",
    "  this.destination = destination;\n",
    "  this.end = end;\n",
    "  this.month = \"\";\n",
    "}\n",
    "\n",
    "Time.prototype.setMonth = function(month) { //Definition of a prototype allow for the definition of a method associated with the function<\n",
    "  this.month = month;\n",
    "}\n",
    "\n",
    "\n",
    "Time.prototype.toJSON = function() {\n",
    "  const obj = {start: this.start, destination: this.destination, end: this.end, role: this.role};\n",
    "  const json = JSON.stringify(obj);  // json/string is useful when passing data on internet\n",
    "  return json;\n",
    "}\n",
    "\n",
    "var august = new Time(\"8/20\", \"Los Angeles\", \"8/22\");  // object type is easy to work with in JavaScript\n",
    "\n",
    "august.setMonth(\"August\");   // set the role\n",
    "\n",
    "\n",
    "// define a user Array of Person(s)\n",
    "var septembers = [ \n",
    "  new Time(\"9/5\", \"China\", \"9/30\"),\n",
    "  new Time(\"9/17\", \"Hawii\", \"9/20\"),\n",
    "  new Time(\"9/21\", \"Japan\", \"9/27\"),\n",
    "  new Time(\"9/23\", \"Korea\", \"9/29\"),\n",
    "  new Time(\"9/25\", \"New York\", \"9/28\")\n",
    "];\n",
    "\n",
    "// define a website and build Website objects and json\n",
    "function Itinerary(august, septembers){ // 1 teacher, many student\n",
    "  // start website with Coder\n",
    "  august.setMonth(\"August\");\n",
    "  this.august = august;\n",
    "  this.itinerary = [august];\n",
    "  // add each User to Website\n",
    "  this.septembers = septembers;\n",
    "  this.septembers.forEach(september => { september.setMonth(\"September\"); this.itinerary.push(september); });\n",
    "  // build json/string format of Website\n",
    "  this.json = [];\n",
    "  this.itinerary.forEach(time => this.json.push(time.toJSON()));\n",
    "}\n",
    "\n",
    "// make a travel webiste from formerly defined coder and users\n",
    "travel = new Itinerary(august, septembers);\n",
    "\n",
    "\n",
    "// define an HTML conversion \"method\" associated with Webiste\n",
    "Itinerary.prototype._toHtml = function() {\n",
    "    // HTML Style is build using inline structure\n",
    "    var style = (\n",
    "      \"display:inline-block;\" +\n",
    "      \"border: 2px solid white;\" +\n",
    "      \"background-color: white;\" +\n",
    "      \"color: black;\"\n",
    "    );\n",
    "  \n",
    "    console.log(\"Itinerary Example\")\n",
    "\n",
    "    // HTML Body of Table is build as a series of concatenations (+=)\n",
    "    var body = \"\";\n",
    "    // Heading for Array Columns\n",
    "    body += \"<tr>\";\n",
    "    body += \"<th><mark>\" + \"Start Date\" + \"</mark></th>\";\n",
    "    body += \"<th><mark>\" + \"Destination\" + \"</mark></th>\";\n",
    "    body += \"<th><mark>\" + \"End Date\" + \"</mark></th>\";\n",
    "    body += \"<th><mark>\" + \"Month\" + \"</mark></th>\";\n",
    "    body += \"</tr>\";\n",
    "    // Data of Array, iterate through each row of travel.itinerary \n",
    "    for (var row in travel.itinerary) {\n",
    "      // tr for each row, a new line\n",
    "      body += \"<tr>\";\n",
    "      // td for each column of data\n",
    "      body += \"<td>\" + travel.itinerary[row].start + \"</td>\";\n",
    "      body += \"<td>\" + travel.itinerary[row].destination + \"</td>\";\n",
    "      body += \"<td>\" + travel.itinerary[row].end + \"</td>\";\n",
    "      body += \"<td>\" + travel.itinerary[row].month + \"</td>\";\n",
    "      // tr to end line\n",
    "      body += \"<tr>\";\n",
    "    }\n",
    "  \n",
    "     // Build and HTML fragment of div, table, table body\n",
    "    return (\n",
    "      \"<div style='\" + style + \"'>\" +\n",
    "        \"<table>\" +\n",
    "          body +\n",
    "        \"</table>\" +\n",
    "      \"</div>\"\n",
    "    );\n",
    "  \n",
    "  };\n",
    "  \n",
    "  // IJavaScript HTML processor receive parameter of defined HTML fragment\n",
    "  $$.html(travel._toHtml());"
   ]
  }
 ],
 "metadata": {
  "kernelspec": {
   "display_name": "JavaScript (Node.js)",
   "language": "javascript",
   "name": "javascript"
  },
  "language_info": {
   "file_extension": ".js",
   "mimetype": "application/javascript",
   "name": "javascript",
   "version": "10.13.0"
  },
  "orig_nbformat": 4,
  "vscode": {
   "interpreter": {
    "hash": "b0fa6594d8f4cbf19f97940f81e996739fb7646882a419484c72d19e05852a7e"
   }
  }
 },
 "nbformat": 4,
 "nbformat_minor": 2
}
