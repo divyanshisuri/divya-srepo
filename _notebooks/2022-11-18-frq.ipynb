{
 "cells": [
  {
   "cell_type": "markdown",
   "metadata": {},
   "source": [
    "# 2019 FRQ 1 \n",
    "- toc: true \n",
    "- badges: true\n",
    "- comments: true\n",
    "- categories: [jupyter]"
   ]
  },
  {
   "cell_type": "markdown",
   "metadata": {},
   "source": [
    "Part 1"
   ]
  },
  {
   "cell_type": "markdown",
   "metadata": {},
   "source": [
    "When doing FRQ, can first write down steps of what we need, if statement? for loop? counter? Remember to initialize variable, like count, day, year...\n",
    "Make sure to return the right thing, return count instead of year."
   ]
  },
  {
   "cell_type": "code",
   "execution_count": null,
   "metadata": {},
   "outputs": [],
   "source": [
    "public static int numberOfLeapYears (int year1, int year2){\n",
    "    //check IF year 1 is leap year or not, if not check year 1 + 1, and so on (for loop + if statement)\n",
    "    //year 1 should be less than year 2 (condition)\n",
    "    //then add up all the leap years (count)\n",
    "\n",
    "    //isLeapYear(year) returns true if year is a leap year and false otherwise. \n",
    "\n",
    "    int count = 0; //initialize count, count should be outside of the for loop\n",
    "    for (int y = year1; y <= year2; y++) {  // for each year between year 1 and year 2\n",
    "        if (isLeapYear(y)) {  //if y is leap year (using the isLeapYear() method)\n",
    "            count++; //count plus 1\n",
    "        }\n",
    "    }\n",
    "    return count; //return the total number of leap years\n",
    "}"
   ]
  },
  {
   "cell_type": "markdown",
   "metadata": {},
   "source": [
    "Part 2"
   ]
  },
  {
   "cell_type": "code",
   "execution_count": null,
   "metadata": {},
   "outputs": [],
   "source": [
    "// returns the integer value representing the day of the week for the given date (month, day, year), where 0 denotes Sunday, 1 denotes Monday, ..., and 6denotes Saturday\n",
    "// two helper methods: firstDayOfYear(year), dayOfYear(month, day, year) \n",
    "\n",
    "public static int dayOfWeek (int month, int day, int year) { //remember to define data type\n",
    "    int firstDay = firstDayOfYear(year); //return the int value representing the day of the week for the first day of year\n",
    "    int nthDay = dayOfYear(month, day, year); //return n, where month, day, and year specify the nth day of the year \n",
    "    int returnDay = (nthDay + firstDay - 1) % 7; //return based on a 0-indexed array instead of the 1-based list of days, gives us the right day of the week\n",
    "    //% 7 at the end takes care of keeping the value within the bounds of the day of week index\n",
    "    return returnDay; //return\n"
   ]
  }
 ],
 "metadata": {
  "kernelspec": {
   "display_name": "Java",
   "language": "java",
   "name": "java"
  },
  "language_info": {
   "name": "java",
   "version": "3.10.6"
  },
  "orig_nbformat": 4,
  "vscode": {
   "interpreter": {
    "hash": "b0fa6594d8f4cbf19f97940f81e996739fb7646882a419484c72d19e05852a7e"
   }
  }
 },
 "nbformat": 4,
 "nbformat_minor": 2
}
 
