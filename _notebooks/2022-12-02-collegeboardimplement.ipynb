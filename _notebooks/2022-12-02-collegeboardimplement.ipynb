{
 "cells": [
  {
   "cell_type": "markdown",
   "metadata": {},
   "source": [
    "#  Vocab/Classes\n",
    "> Homework Assignments\n",
    "- toc: true \n",
    "- badges: true\n",
    "- comments: true\n",
    "- categories: [jupyter]"
   ]
  },
  {
   "cell_type": "markdown",
   "metadata": {},
   "source": [
    "## Writing Classes"
   ]
  },
  {
   "cell_type": "code",
   "execution_count": null,
   "metadata": {},
   "outputs": [
    {
     "name": "stdout",
     "output_type": "stream",
     "text": [
      "Dal\n"
     ]
    }
   ],
   "source": [
    "class Food {\n",
    "    //attributes\n",
    "    private String cuisine;\n",
    "    private String name;\n",
    "    private int mealsConsumed;\n",
    "//instance variables\n",
    "\n",
    "    //constructor\n",
    "    Food(String cuisine, String name, int mealsConsumed)\n",
    "    {\n",
    "        this.cuisine = cuisine;\n",
    "        this.name = name;\n",
    "        this.mealsConsumed = mealsConsumed;\n",
    "    }\n",
    "    public String getName(){\n",
    "        return name;\n",
    "    }\n",
    "}\n",
    "\n",
    "public class Foodmain {\n",
    "    public static void main(String[] args) {\n",
    "        Food newFood = new Food(\"Indian\", \"Dal\", 20);\n",
    "        System.out.println(newFood.getName());\n",
    "        \n",
    "    }\n",
    "}\n",
    "Foodmain.main(null)"
   ]
  },
  {
   "cell_type": "code",
   "execution_count": null,
   "metadata": {},
   "outputs": [
    {
     "name": "stdout",
     "output_type": "stream",
     "text": [
      "Input 1st number: 2\n",
      "Input 2nd number: 20\n",
      "The average of those numbers are 11\n"
     ]
    }
   ],
   "source": [
    "import java.util.Scanner; //allows scanners to be in program\n",
    "\n",
    "public class averages {\n",
    "  public static void main(String[] args) {\n",
    "    \n",
    "}}\n",
    "Scanner in = new Scanner(System.in); //creates a scanner\n",
    "\n",
    "System.out.print(\"Input 1st number: \"); //asks user for input\n",
    "int num1 = in.nextInt(); //saves number and goes to next int\n",
    "System.out.println(num1);\n",
    "System.out.print(\"Input 2nd number: \"); //same as above\n",
    "int num2 = in.nextInt();\n",
    "System.out.println(num2);\n",
    "System.out.println(\"The average of those numbers are \" + (num1 + num2)/(2));\n",
    "\n",
    "//prints out\n",
    "//num you want to divide is however many numbers you want to average out\n",
    "\n",
    "averages.main(null)"
   ]
  },
  {
   "cell_type": "markdown",
   "metadata": {},
   "source": [
    "## Constructors\n",
    "- no return b/c not directly called\n",
    "- called for object creation\n",
    "- initialize and set values for objects"
   ]
  },
  {
   "cell_type": "code",
   "execution_count": null,
   "metadata": {},
   "outputs": [
    {
     "name": "stdout",
     "output_type": "stream",
     "text": [
      "1969 Mustang\n"
     ]
    }
   ],
   "source": [
    "public class Main {//main class\n",
    "    int modelYear;\n",
    "    String modelName;//attributes\n",
    "  \n",
    "    public Main(int year, String name) {//constructor\n",
    "      modelYear = year;\n",
    "      modelName = name;\n",
    "    }\n",
    "  \n",
    "    public static void main(String[] args) {\n",
    "      Main myCar = new Main(1969, \"Mustang\");//objects\n",
    "      System.out.println(myCar.modelYear + \" \" + myCar.modelName);\n",
    "    }\n",
    "  }\n",
    "  \n",
    "// Outputs 1969 Mustang\n",
    "Main.main(null);\n",
    "  "
   ]
  },
  {
   "cell_type": "markdown",
   "metadata": {},
   "source": [
    "## Public, Private, Protected; Access Modifiers\n",
    "- private; only accessed within class\n",
    "- protected; within/outside package, accessible only through child class\n",
    "- public - open access"
   ]
  },
  {
   "cell_type": "code",
   "execution_count": null,
   "metadata": {},
   "outputs": [],
   "source": [
    "//public\n",
    "\n",
    "\n",
    "//Exercise 1: \n",
    "//Write a program to reverse the words in a sentence\n",
    "//example: the strawberry cake\n",
    "//becomes: cake strawberry the\n",
    "\n",
    "//hints: use scanner to take in words\n",
    "//use split to break apart words to reverse them\n",
    "\n",
    "import java.util.*; //import scanner\n",
    "public class Main {\n",
    "  public static String reverse_str_order(String input_sentence) { //\n",
    "    if (input_sentence == null) {\n",
    "      throw new IllegalArgumentException(\"Null\"); //no empty strings\n",
    "    }\n",
    "    StringBuilder stringBuilder = new StringBuilder();\n",
    "    String[] words = input_sentence.split(\" \");\n",
    "    for (int i = words.length - 1; i >= 0; i--) {\n",
    "      stringBuilder.append(words[i]); //place words in order\n",
    "      if (i != 0) { //keep going until no more words are left\n",
    "        stringBuilder.append(\" \");\n",
    "      }\n",
    "    }\n",
    "    return stringBuilder.toString();\n",
    "  }\n",
    "}\n",
    "public static void main(String[] args) { //prepares for scanning\n",
    "  Scanner scanner = new Scanner(System.in);\n",
    "  System.out.print(\"Input string: \"); //asks for user input\n",
    "  String input = scanner.nextLine(); //takes in next line\n",
    "  System.out.println(\"\\nResult: \" + reverse_str_word(input));\n",
    "}\n"
   ]
  },
  {
   "cell_type": "code",
   "execution_count": null,
   "metadata": {},
   "outputs": [],
   "source": [
    "//private\n",
    "\n",
    "\n",
    "//Exercise 1: \n",
    "//Write a program to reverse the words in a sentence\n",
    "//example: the strawberry cake\n",
    "//becomes: cake strawberry the\n",
    "\n",
    "//hints: use scanner to take in words\n",
    "//use split to break apart words to reverse them\n",
    "\n",
    "import java.util.*; //import scanner\n",
    "public class Main {\n",
    "  private static String reverse_str_order(String input_sentence) { //\n",
    "    if (input_sentence == null) {\n",
    "      throw new IllegalArgumentException(\"Null\"); //no empty strings\n",
    "    }\n",
    "    StringBuilder stringBuilder = new StringBuilder();\n",
    "    String[] words = input_sentence.split(\" \");\n",
    "    for (int i = words.length - 1; i >= 0; i--) {\n",
    "      stringBuilder.append(words[i]); //place words in order\n",
    "      if (i != 0) { //keep going until no more words are left\n",
    "        stringBuilder.append(\" \");\n",
    "      }\n",
    "    }\n",
    "    return stringBuilder.toString();\n",
    "  }\n",
    "}\n",
    "public static void main(String[] args) { //prepares for scanning\n",
    "  Scanner scanner = new Scanner(System.in);\n",
    "  System.out.print(\"Input string: \"); //asks for user input\n",
    "  String input = scanner.nextLine(); //takes in next line\n",
    "  System.out.println(\"\\nResult: \" + reverse_str_word(input));\n",
    "}\n"
   ]
  },
  {
   "cell_type": "code",
   "execution_count": null,
   "metadata": {},
   "outputs": [],
   "source": [
    "//protected\n",
    "\n",
    "\n",
    "//Exercise 1: \n",
    "//Write a program to reverse the words in a sentence\n",
    "//example: the strawberry cake\n",
    "//becomes: cake strawberry the\n",
    "\n",
    "//hints: use scanner to take in words\n",
    "//use split to break apart words to reverse them\n",
    "\n",
    "import java.util.*; //import scanner\n",
    "public class Main {\n",
    "  protected static String reverse_str_order(String input_sentence) { //\n",
    "    if (input_sentence == null) {\n",
    "      throw new IllegalArgumentException(\"Null\"); //no empty strings\n",
    "    }\n",
    "    StringBuilder stringBuilder = new StringBuilder();\n",
    "    String[] words = input_sentence.split(\" \");\n",
    "    for (int i = words.length - 1; i >= 0; i--) {\n",
    "      stringBuilder.append(words[i]); //place words in order\n",
    "      if (i != 0) { //keep going until no more words are left\n",
    "        stringBuilder.append(\" \");\n",
    "      }\n",
    "    }\n",
    "    return stringBuilder.toString();\n",
    "  }\n",
    "}\n",
    "public static void main(String[] args) { //prepares for scanning\n",
    "  Scanner scanner = new Scanner(System.in);\n",
    "  System.out.print(\"Input string: \"); //asks for user input\n",
    "  String input = scanner.nextLine(); //takes in next line\n",
    "  System.out.println(\"\\nResult: \" + reverse_str_word(input));\n",
    "}"
   ]
  },
  {
   "cell_type": "markdown",
   "metadata": {},
   "source": [
    "## this Keyword\n",
    "- current object in method/constructor\n",
    "- eliminates confusion b/w attributes/parameters w/ the same name"
   ]
  },
  {
   "cell_type": "code",
   "execution_count": null,
   "metadata": {},
   "outputs": [],
   "source": [
    "//ex\n",
    "public class Main {\n",
    "    int x;\n",
    "  \n",
    "    // Constructor with a parameter\n",
    "    public Main(int x) {\n",
    "      this.x = x;\n",
    "    }\n",
    "  //this used to \n",
    "    // Call the constructor\n",
    "    public static void main(String[] args) {\n",
    "      Main myObj = new Main(5);\n",
    "      System.out.println(\"Value of x = \" + myObj.x);\n",
    "    }\n",
    "  }"
   ]
  },
  {
   "cell_type": "markdown",
   "metadata": {},
   "source": [
    "## Inheritance, extends\n",
    "- extends: extends a class, inherits information from another class\n",
    "- subclass; class inherits from another class\n",
    "- superclass; parent class being inherited from\n"
   ]
  },
  {
   "cell_type": "markdown",
   "metadata": {},
   "source": [
    "## Big O notation for Hash map, Binary Search, Single loop, Nested Loop\n",
    "- language for runtime length\n",
    "- related to efficiency\n",
    "\n",
    "- hashmap: single operation to obtain position of a searched element\n",
    "- - O(1)\n",
    "\n",
    "- binary search\n",
    "- - O(1)\n",
    "- - eliminates half the elements each time\n",
    "\n",
    "- single loop\n",
    "- - O(n)\n",
    "- - The next loop executes N times, if we assume the statement inside the loop is O(1), then the total time for the loop is N*O(1), which equals O(N) also known as linear time\n",
    "\n",
    "- nested loop\n",
    "- - O(N*N)\n",
    "- - the first loop may execute N times, but for how many first loop executes, the inner loop executes N times\n",
    "\n"
   ]
  },
  {
   "cell_type": "markdown",
   "metadata": {},
   "source": [
    "# Code for combining (FRQ)\n",
    "\n"
   ]
  },
  {
   "cell_type": "markdown",
   "metadata": {},
   "source": [
    "## (Compound) Boolean Expressions\n",
    "- Booleans store a true/false value (can only be one of these)\n",
    "- Booleans can be generated using comparison expressions (equal/==, greater than/>, less than/<, etc.)\n",
    "- If statements take in a boolean or boolean expression and run if the expression evaluates to true\n",
    "- Else & Else if statements can be used in conjunction with if statements to run code if the if statement evaluates to false\n",
   ]
  },
  {
   "cell_type": "markdown",
   "metadata": {},
   "source": [
    "## De Morgan’s Law\n",
    "- De Morgan’s first law states that the complement of the union of two sets A and B is equal to the intersection of the complement of the sets A and B.\n",
    "- Else & Else if statements can be used in conjunction with if statements to run code if the if statement evaluates to false\n",
    "- Not (A and B) is the same as Not A or Not B.\n",
    "= Not (A or B) is the same as Not A and Not B.\n"
   ]
  },
   {
   "cell_type": "markdown",
   "metadata": {},
   "source": [
    "## Comparing Strings\n",
    "- System.out.print() only prints the thing that you give it\n",
    "- This will literally print what you want it to. String literals are stored in a JVM (java virtual machine). It is almost like a global bank.\n",
    "- If you compare a string literal and a string object, you will not get the same result because, even though they have the same content, they are completely different entities in themselves.\n",
    "Similarly, we have a literal, which will also literally print out what you tell it. However, a literal is an integer (integer literal)\n"
   ]
  },
  {
   "cell_type": "markdown",
   "metadata": {},
   "source": [
    "## Difference of Static and Class\n",
    "- A static method in Java is a method that is part of a class rather than an instance of that class. Every instance of a class has access to the method. Static methods have access to class variables (static variables) without using the class’s object (instance). Only static data may be accessed by a static method.\n",
   ]
  },
   {
   "cell_type": "markdown",
   "metadata": {},
   "source": [
    "## Other notes: \n",
    "- The this keyword refers to the current object in a method or constructor. The most common use of the this keyword is to eliminate the confusion between class attributes and parameters with the same name (because a class attribute is shadowed by a method or constructor parameter).\n",
    "- The Java main method is usually the first method you learn about when you start programming in Java because its the entry point for executing a Java program. The main method can contain code to execute or call other methods, and it can be placed in any class that’s part of a program.\n"
    "- The value that is returned from a method, you need to specify the type that is being returned in the method signature. Let’s say you return something to main, main now has access to that returned value. Remember, return does not mean print. You would need to specifically say print the return value if you want it to be displayed.\n"
    "
   ]
  },
  {
   "cell_type": "code",
   "execution_count": null,
   "metadata": {},
   "outputs": [],
   "source": [
    "//Implementation\n",
    "\n",
    "//unit 5\n",
    "//1a\n",
    "public int scoreGuess( String guess ) {\n",
    "    int val = 0;\n",
    "    int len = guess.length();\n",
    "    for( int i = 0; i <= secret.length()-len; i+=1){\n",
    "    String ck = secret.substring( i, i+len );\n",
    "    \n",
    "    if( ck.equals(guess) ){\n",
    "        val++;\n",
    "    }\n",
    "    }\n",
    "    return val*len*len;\n",
    "    }\n",
    "//3a\n",
    "    public void addMembers(\n",
    "    String[] names, int gradYear ){\n",
    "        \n",
    "    for( String n : names ){\n",
    "    memberList.add(new MemberInfo( n, gradYear, true) );\n",
    "    }\n",
    "    }"
   ]
  }
 ],
 "metadata": {
  "kernelspec": {
   "display_name": "Java",
   "language": "java",
   "name": "java"
  },
  "language_info": {
   "name": "java",
   "version": "3.8.10"
  },
  "orig_nbformat": 4,
  "vscode": {
   "interpreter": {
    "hash": "916dbcbb3f70747c44a77c7bcd40155683ae19c65e1c03b4aa3499c5328201f1"
   }
  }
 },
 "nbformat": 4,
 "nbformat_minor": 2
}
