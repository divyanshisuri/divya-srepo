{
 "cells": [
  {
   "cell_type": "markdown",
   "metadata": {},
   "source": [
    "# Unit 3 Boolean Expressions and if Statements\n",
    "- toc: true \n",
    "- badges: true\n",
    "- comments: true\n",
    "- categories: [jupyter]"
   ]
  },
  {
   "cell_type": "markdown",
   "metadata": {},
   "source": [
    "## 2019 FRQ 1 A"
   ]
  },
  {
   "cell_type": "markdown",
   "metadata": {},
   "source": [
    "Write the static method numberOfLeapYears, which returns the number of leap years between\n",
    "year1 and year2, inclusive. "
   ]
  },
  {
   "cell_type": "code",
   "execution_count": 1,
   "metadata": {
    "vscode": {
     "languageId": "java"
    }
   },
   "outputs": [],
   "source": [
    "public static int numberOfLeapYears (int year1, int year2){\n",
    "    //check IF year 1 is leap year or not, if not check year 1 + 1, and so on (for loop + if statement)\n",
    "    //year 1 should be less than year 2 (condition)\n",
    "    //then add up all the leap years (count)\n",
    "\n",
    "    //isLeapYear(year) returns true if year is a leap year and false otherwise. \n",
    "\n",
    "    int count = 0; //initialize count, count should be outside of the for loop\n",
    "    for (int y = year1; y <= year2; y++) {  // for each year between year 1 and year 2\n",
    "        if (isLeapYear(y)) {  //if y is leap year (using the isLeapYear() method)\n",
    "            count++; //count plus 1\n",
    "        }\n",
    "    }\n",
    "    return count; //return the total number of leap years\n",
    "}"
   ]
  },
  {
   "cell_type": "markdown",
   "metadata": {},
   "source": [
    "## 2019 FRQ 1 B"
   ]
  },
  {
   "cell_type": "markdown",
   "metadata": {},
   "source": [
    "Write the static method dayOfWeek, which returns the integer value representing the day of the week for the given date (month, day, year), where 0 denotes Sunday, 1 denotes Monday, ..., and 6\n",
    "denotes Saturday. For example, 2019 began on a Tuesday, and January 5 is the fifth day of 2019. As a result, January 5, 2019, fell on a Saturday, and the method call dayOfWeek(1, 5, 2019)\n",
    "returns 6. "
   ]
  },
  {
   "cell_type": "code",
   "execution_count": 2,
   "metadata": {
    "vscode": {
     "languageId": "java"
    }
   },
   "outputs": [],
   "source": [
    "// returns the integer value representing the day of the week for the given date (month, day, year), where 0 denotes Sunday, 1 denotes Monday, ..., and 6denotes Saturday\n",
    "// two helper methods: firstDayOfYear(year), dayOfYear(month, day, year) \n",
    "\n",
    "public static int dayOfWeek (int month, int day, int year) { //remember to define data type\n",
    "    int firstDay = firstDayOfYear(year); //return the int value representing the day of the week for the first day of year\n",
    "    int nthDay = dayOfYear(month, day, year); //return n, where month, day, and year specify the nth day of the year \n",
    "    int returnDay = (nthDay + firstDay - 1) % 7; //return based on a 0-indexed array instead of the 1-based list of days, gives us the right day of the week\n",
    "    //% 7 at the end takes care of keeping the value within the bounds of the day of week index\n",
    "    return returnDay; //return\n",
    "\n",
    "}"
   ]
  },
  {
   "cell_type": "markdown",
   "metadata": {},
   "source": [
    "## Quizziz Screenshot"
   ]
  },
  {
   "cell_type": "markdown",
   "metadata": {},
   "source": [
    "![quizziz](../images/unit3.png)"
   ]
  },
  {
   "cell_type": "markdown",
   "metadata": {},
   "source": [
    "# Conditional Exercises"
   ]
  },
  {
   "cell_type": "markdown",
   "metadata": {},
   "source": [
    "2) Write a Java program to solve quadratic equations (use if, else if and else)."
   ]
  },
  {
   "cell_type": "code",
   "execution_count": 3,
   "metadata": {
    "vscode": {
     "languageId": "java"
    }
   },
   "outputs": [
    {
     "name": "stdout",
     "output_type": "stream",
     "text": [
      "Input a: "
     ]
    }
   ],
   "source": [
    "import java.util.Scanner;  // import scanner for use input\n",
    "public class Exercise2 {\n",
    "\n",
    "    \n",
    "  public static void main(String[] Strings) { \n",
    "\n",
    "        Scanner input = new Scanner(System.in); \n",
    "\n",
    "            System.out.print(\"Input a: \");\n",
    "            double a = input.nextDouble();\n",
    "            System.out.print(\"Input b: \");\n",
    "            double b = input.nextDouble();\n",
    "            System.out.print(\"Input c: \");\n",
    "            double c = input.nextDouble();\n",
    "\n",
    "            double result = b * b - 4.0 * a * c; // result the value under the square root\n",
    "\n",
    "            if (result > 0.0) {  //if it is a positive number under the square root, continue with the rest of quadratic formula\n",
    "                double r1 = (-b + Math.pow(result, 0.5)) / (2.0 * a); //The Math.pow() method returns the value of a base raised to a power. \n",
    "                double r2 = (-b - Math.pow(result, 0.5)) / (2.0 * a); \n",
    "                System.out.println(\"The roots are \" + r1 + \" and \" + r2);\n",
    "            } else if (result == 0.0) {  //if 0, -b +or- 0 over 2a\n",
    "                double r1 = -b / (2.0 * a);\n",
    "                System.out.println(\"The root is \" + r1);\n",
    "            } else {  //if negative number under square root, no solution\n",
    "                System.out.println(\"The equation has no real roots.\");\n",
    "            }\n",
    "\n",
    "    }\n",
    "}\n",
    "\n",
    "Exercise2.main(null);"
   ]
  },
  {
   "cell_type": "markdown",
   "metadata": {},
   "source": [
    "4) Write a Java program that reads a floating-point number and prints \"zero\" if the number is zero. Otherwise, print \"positive\" or \"negative\". Add \"small\" if the absolute value of the number is less than 1, or \"large\" if it exceeds 1,000,000."
   ]
  },
  {
   "cell_type": "code",
   "execution_count": null,
   "metadata": {
    "vscode": {
     "languageId": "java"
    }
   },
   "outputs": [],
   "source": [
    "import java.util.Scanner;\n",
    "public class Exercise4 {\n",
    "\n",
    "    \n",
    "  public static void main(String[] args)\n",
    "    {\n",
    "        Scanner in = new Scanner(System.in);\n",
    "        System.out.print(\"Input value: \");\n",
    "        double input = in.nextDouble();\n",
    "\n",
    "        if (input > 0)\n",
    "        {\n",
    "            if (input < 1)\n",
    "            {\n",
    "                System.out.println(\"Positive small number\");\n",
    "            }\n",
    "            else if (input > 1000000)\n",
    "            {\n",
    "                System.out.println(\"Positive large number\");\n",
    "            }\n",
    "            else\n",
    "            {\n",
    "                System.out.println(\"Positive number\");\n",
    "            }\n",
    "        }\n",
    "        else if (input < 0)\n",
    "        {\n",
    "            if (Math.abs(input) < 1)\n",
    "            {\n",
    "                System.out.println(\"Negative small number\");\n",
    "            }\n",
    "            else if (Math.abs(input) > 1000000)\n",
    "            {\n",
    "                System.out.println(\"Negative large number\");\n",
    "            }\n",
    "            else\n",
    "            {\n",
    "                System.out.println(\"Negative number\");\n",
    "            }\n",
    "        }\n",
    "        else\n",
    "        {\n",
    "            System.out.println(\"Zero\");\n",
    "        }\n",
    "    }\n",
    "}\n",
    "\n",
    "Exercise4.main(null);"
   ]
  },
  {
   "cell_type": "markdown",
   "metadata": {},
   "source": [
    "6) Write a Java program that reads in two floating-point numbers and tests whether they are the same up to three decimal places."
   ]
  },
  {
   "cell_type": "code",
   "execution_count": null,
   "metadata": {
    "vscode": {
     "languageId": "java"
    }
   },
   "outputs": [],
   "source": [
    "import java.util.Scanner;\n",
    "public class Exercise6 {\n",
    "\n",
    "    \n",
    "  public static void main(String[] args)\n",
    "    {\n",
    "        Scanner in = new Scanner(System.in);\n",
    "\n",
    "        System.out.print(\"Input floating-point number: \");\n",
    "        double x = in.nextDouble();\n",
    "        System.out.print(\"Input floating-point another number: \");\n",
    "        double y = in.nextDouble();\n",
    "\n",
    "        x = Math.round(x * 1000);\n",
    "        x = x / 1000;\n",
    "\n",
    "        y = Math.round(y * 1000);\n",
    "        y = y / 1000;\n",
    "\n",
    "        if (x == y)\n",
    "        {\n",
    "            System.out.println(\"They are the same up to three decimal places\");\n",
    "        }\n",
    "        else\n",
    "        {\n",
    "            System.out.println(\"They are different\");\n",
    "        }\n",
    "    }\n",
    "}\n",
    "\n",
    "Exercise6.main(null);"
   ]
  },
  {
   "cell_type": "markdown",
   "metadata": {},
   "source": [
    "The conditional exercises are really difficult for me. I would spent time understanding the code above as much as possible."
   ]
  }
 ],
 "metadata": {
  "kernelspec": {
   "display_name": "Java",
   "language": "java",
   "name": "java"
  },
  "language_info": {
   "codemirror_mode": "java",
   "file_extension": ".jshell",
   "mimetype": "text/x-java-source",
   "name": "Java",
   "pygments_lexer": "java",
   "version": "17.0.5+0"
  },
  "orig_nbformat": 4
 },
 "nbformat": 4,
 "nbformat_minor": 2
}
