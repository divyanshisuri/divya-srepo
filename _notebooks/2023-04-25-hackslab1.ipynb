{
 "cells": [
  {
   "attachments": {},
   "cell_type": "markdown",
   "metadata": {},
   "source": [
    "# Lab 1 Notes and Hacks\n",
    "\n",
    "- toc: false \n",
    "- badges: true\n",
    "- comments: true\n",
    "- categories: [jupyter]"
   ]
  },
  {
   "attachments": {},
   "cell_type": "markdown",
   "metadata": {},
   "source": [
    "## Topic 1 - Merge Sort\n",
    "### Merge Sort\n",
    "\n",
    "- Merge sort is a popular sorting algorithm that uses the divide-and-conquer technique to sort an array of elements in ascending or descending order. The algorithm divides the input array into two equal halves and sorts each half recursively until the base case is reached, where a single element is considered sorted. The sorted subarrays are then merged back together in a way that guarantees the resulting array is sorted. The merge operation works by comparing elements from each subarray and inserting them in the correct order in a temporary array, which is then copied back to the original array. Merge sort has a time complexity of O(n log n) in the average and worst cases, making it efficient for large datasets. It is also a stable sorting algorithm, meaning it maintains the relative order of equal elements in the input array. However, merge sort requires additional memory for the temporary array used during the merge operation, which can be a disadvantage for very large datasets with limited memory. Despite this limitation, merge sort is widely used in applications where stability and efficiency are critical, such as in sorting large databases or for parallel computing. \n",
    "\n",
    "#### Merge Method"
   ]
  },
  {
   "cell_type": "code",
   "execution_count": null,
   "metadata": {
    "vscode": {
     "languageId": "java"
    }
   },
   "outputs": [],
   "source": [
    "void merge(int arr[], int l, int m, int r)\n",
    "    {\n",
    "        int n1 = m - l + 1;\n",
    "        int n2 = r - m;\n",
    "\n",
    "        /* Create temp arrays */\n",
    "        int[] L = new int[n1];\n",
    "        int[] R = new int[n2];\n",
    "\n",
    "        /* Copy data to temp arrays */\n",
    "        for (int i = 0; i < n1; ++i)\n",
    "            L[i] = arr[l + i];\n",
    "        for (int j = 0; j < n2; ++j)\n",
    "            R[j] = arr[m + 1 + j];\n",
    "\n",
    "\n",
    "        int i = 0, j = 0;\n",
    "\n",
    "        // Initial index of merged subarray array\n",
    "        int k = l;\n",
    "        while (i < n1 && j < n2) {\n",
    "            if (L[i] <= R[j]) {\n",
    "                // MISSING CODE #1 (need to keep the left on the left side and the right on the right side if left is less than or equal to right)\n",
    "                arr[k] = L[i];\n",
    "                i++;\n",
    "            }\n",
    "            else {\n",
    "                // MISSING CODE #2 (need to swap the left and right subarrays if left is greater than right)\n",
    "                arr[k] = R[j];\n",
    "                j++;\n",
    "            }\n",
    "            k++;\n",
    "        }\n",
    "\n",
    "        /* Copy remaining elements of L[] if any */\n",
    "        while (i < n1) {\n",
    "            arr[k] = L[i];\n",
    "            i++;\n",
    "            k++;\n",
    "        }\n",
    "\n",
    "        /* Copy remaining elements of R[] if any */\n",
    "        while (j < n2) {\n",
    "            arr[k] = R[j];\n",
    "            j++;\n",
    "            k++;\n",
    "        }\n",
    "    }"
   ]
  },
  {
   "attachments": {},
   "cell_type": "markdown",
   "metadata": {},
   "source": [
    "### Hacks and Homework\n",
    "\n",
    "##### Merge Sort Hack #1\n",
    "- Use the integer merge that we created and adapt it to sort an array of Java String objects. We recommend using the compareTo() method of the String class for this."
   ]
  },
  {
   "cell_type": "code",
   "execution_count": 3,
   "metadata": {
    "vscode": {
     "languageId": "java"
    }
   },
   "outputs": [
    {
     "name": "stdout",
     "output_type": "stream",
     "text": [
      "My friends are: [gennalyn, alison, tanvi, katelyn, pranavi, lucia]\n"
     ]
    }
   ],
   "source": [
    "import java.util.Arrays;\n",
    "\n",
    "public class MergeSort {\n",
    "\n",
    "    public static void main(String[] args) {\n",
    "        String[] values = {\"katelyn\", \"tanvi\", \"gennalyn\", \"pranavi\", \"alison\", \"lucia\"};\n",
    "        mergeSort(values, 0, values.length - 1);\n",
    "        System.out.println(\"My friends are: \" + Arrays.toString(values));\n",
    "    }\n",
    "\n",
    "    public static void mergeSort(String[] a, int from, int to) {\n",
    "        if (from == to) {\n",
    "            return;\n",
    "        }\n",
    "        int mid = (from + to) / 2;\n",
    "        mergeSort(a, from, mid);\n",
    "        mergeSort(a, mid + 1, to);\n",
    "        merge(a, from, mid, to);\n",
    "    }\n",
    "\n",
    "    public static void merge(String[] a, int from, int mid, int to) {\n",
    "        int n = to - from + 1;      ",
    "        String[] b = new String[n];   ",
    "        int i1 = from;              ",
    "        int i2 = mid + 1;           ",
    "        int j = 0;                  ",
    "\n",
    "        while (i1 <= mid && i2 <= to) {\n",
    "            if (a[i1].compareTo(a[i2]) < 0) {\n",
    "                b[j] = a[i1];\n",
    "                i1++;\n",
    "            } else {\n",
    "                b[j] = a[i2];\n",
    "                i2++;\n",
    "            }\n",
    "            j++;\n",
    "        }\n",
    "\n",
    "        while (i1 <= mid) {\n",
    "            b[j] = a[i1];\n",
    "            i1++;\n",
    "            j++;\n",
    "        }\n",
    "\n",
    "        while (i2 <= to) {\n",
    "            b[j] = a[i2];\n",
    "            i2++;\n",
    "            j++;\n",
    "        }\n",
    "\n",
    "        for (j = 0; j < n; j++) {\n",
    "            a[from + j] = b[j];\n",
    "        }\n",
    "    }\n",
    "\n",
    "}\n",
    "MergeSort.main(null);"
   ]
  },
  {
   "attachments": {},
   "cell_type": "markdown",
   "metadata": {},
   "source": [
    "## Topic 2 - Binary Search\n",
    "\n",
    "### Binary Search\n",
    "\n",
    "- searching algorithm used by repeatedly dividing search interval by half\n",
    "- one of the fastest searching methods\n",
    "\n",
    "![binarysearch](../images/binarysearch.png)\n",
    "\n",
    "### Questions\n",
    "\n",
    "- Which of the following is a prerequisite for using binary search in Java?\n",
    "    - The array must be sorted in ascending order\n",
    "- What is the worst-case scenario for binary search in Java?\n",
    "    - The element being searched for is not in the array\n",
    "- Which of the following data structures is best suited for binary search?\n",
    "    - Array\n",
    "- What is returned if the target is not present in the array?\n",
    "    - False\n",
    "- What is returned if the target is present multiple times in the array?\n",
    "    - The index of one of the occurrences will be returned\n",
    "\n",
    "### Hacks and Homework \n",
    "\n",
    "##### Binary Search Hack #1\n",
    "- Given an int array[] = {1, 3, 5, 7, 9, 23, 45, 67}, search the number 45 and give it's index with Binary search, BUT do this using recursion. Make sure to include informative comments to explain the code as you write the algorithm."
   ]
  },
  {
   "cell_type": "code",
   "execution_count": 5,
   "metadata": {
    "vscode": {
     "languageId": "java"
    }
   },
   "outputs": [
    {
     "name": "stdout",
     "output_type": "stream",
     "text": [
      "Element found at index 6\n"
     ]
    }
   ],
   "source": [
    "public class BinarySearchRecursive {\n",
    "    public static int binarySearch(int arr[], int start, int end, int target) {\n",
    "        if (end >= start) {\n",
    "            int mid = start + (end - start) / 2;\n",
    "            if (arr[mid] == target) {\n",
    "                return mid;\n",
    "            } else if (arr[mid] > target) {\n",
    "                return binarySearch(arr, start, mid - 1, target);\n",
    "            } else {\n",
    "                return binarySearch(arr, mid + 1, end, target);\n",
    "            }\n",
    "        }\n",
    "        return -1;\n",
    "    }\n",
    "\n",
    "    public static void main(String args[]) {\n",
    "        int arr[] = {1, 3, 5, 7, 9, 23, 45, 67};\n",
    "        int target = 45;\n",
    "        int index = binarySearch(arr, 0, arr.length - 1, target);\n",
    "        if (index == -1) {\n",
    "            System.out.println(\"Element not present in array\");\n",
    "        } else {\n",
    "            System.out.println(\"Element found at index \" + index);\n",
    "        }\n",
    "    }\n",
    "}\n",
    "BinarySearchRecursive.main(null);\n"
   ]
  },
  {
   "attachments": {},
   "cell_type": "markdown",
   "metadata": {},
   "source": [
    "##### Extra Credit Binary Search Hack #2\n",
    "- Given an unsorted array of int[] array = {5, 6, 3, 1, 8, 9, 4, 7, 2}, use merge sort as taught previously and combine learning with this lesson to implement a binary search to find index of the number 7. (0.15 points)"
   ]
  },
  {
   "cell_type": "code",
   "execution_count": 7,
   "metadata": {
    "vscode": {
     "languageId": "java"
    }
   },
   "outputs": [
    {
     "name": "stdout",
     "output_type": "stream",
     "text": [
      "Element found at index 6\n"
     ]
    }
   ],
   "source": [
    "public class BinarySearch {\n",
    "    \n",
    "    public static void mergeSort(int[] array, int left, int right) {\n",
    "        if (left < right) {\n",
    "            int mid = (left + right) / 2;\n",
    "            mergeSort(array, left, mid);\n",
    "            mergeSort(array, mid + 1, right);\n",
    "            merge(array, left, mid, right);\n",
    "        }\n",
    "    }\n",
    "    private static void merge(int[] array, int left, int mid, int right) {\n",
    "        int[] temp = new int[array.length];\n",
    "        for (int i = left; i <= right; i++) {\n",
    "            temp[i] = array[i];\n",
    "        }\n",
    "        int i = left;\n",
    "        int j = mid + 1;\n",
    "        int k = left;\n",
    "        while (i <= mid && j <= right) {\n",
    "            if (temp[i] <= temp[j]) {\n",
    "                array[k] = temp[i];\n",
    "                i++;\n",
    "            } else {\n",
    "                array[k] = temp[j];\n",
    "                j++;\n",
    "            }\n",
    "            k++;\n",
    "        }\n",
    "        while (i <= mid) {\n",
    "            array[k] = temp[i];\n",
    "            k++;\n",
    "            i++;\n",
    "        }\n",
    "    }\n",
    "\n",
    "    public static int binarySearch(int[] array, int left, int right, int target) {\n",
    "        if (right >= left) {\n",
    "            int mid = left + (right - left) / 2;\n",
    "            if (array[mid] == target) {\n",
    "                return mid;\n",
    "            } else if (array[mid] > target) {\n",
    "                return binarySearch(array, left, mid - 1, target);\n",
    "            } else {\n",
    "                return binarySearch(array, mid + 1, right, target);\n",
    "            }\n",
    "        }\n",
    "        return -1;\n",
    "    }\n",
    "\n",
    "    public static void main(String[] args) {\n",
    "        int[] array = {5, 6, 3, 1, 8, 9, 4, 7, 2};\n",
    "        mergeSort(array, 0, array.length - 1);\n",
    "        int target = 7;\n",
    "        int index = binarySearch(array, 0, array.length - 1, target);\n",
    "        if (index == -1) {\n",
    "            System.out.println(\"Element not found\");\n",
    "        } else {\n",
    "            System.out.println(\"Element found at index \" + index);\n",
    "        }\n",
    "    }\n",
    "}\n",
    "BinarySearch.main(null);"
   ]
  }
 ],
 "metadata": {
  "kernelspec": {
   "display_name": "Java",
   "language": "java",
   "name": "java"
  },
  "language_info": {
   "codemirror_mode": "java",
   "file_extension": ".jshell",
   "mimetype": "text/x-java-source",
   "name": "Java",
   "pygments_lexer": "java",
   "version": "17.0.4+8"
  },
  "orig_nbformat": 4
 },
 "nbformat": 4,
 "nbformat_minor": 2
}
