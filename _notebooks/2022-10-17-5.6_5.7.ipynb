{
 "cells": [
  {
   "cell_type": "markdown",
   "metadata": {},
   "source": [
    "# Writing Classes 5.6 - 5.7\n",
    "- toc: true \n",
    "- badges: true\n",
    "- comments: true\n",
    "- categories: [jupyter]"
   ]
  },
  {
   "cell_type": "markdown",
   "metadata": {},
   "source": [
    "## 5.6 Writing Methods\n",
    "- Procedural Abstraction\n",
    "  - allows us to name a block of code as a method and call it whenever we need it, abstracting away the details of how it works\n",
    "  - Benefits:\n",
    "    - organize our code by function\n",
    "    - reduce its complexity\n",
    "    - reduce the repetition of code\n",
    "      - reuse code by putting it in a method and calling it whenever needed.\n",
    "    - helps with debugging and maintenance\n",
    "      - changes to that block of code only need to happen in one place\n",
    "\n",
    "\n",
    "- When you see repeated code, that is a signal for you to make a new method!\n"
   ]
  },
  {
   "cell_type": "markdown",
   "metadata": {},
   "source": [
    "## Three steps to creating and calling a method:\n",
    "\n",
    "1) Object of the Class: Declare an object of your class in the main method or from outside the class."
   ]
  },
  {
   "cell_type": "code",
   "execution_count": 28,
   "metadata": {},
   "outputs": [
    {
     "ename": "CompilationException",
     "evalue": "",
     "output_type": "error",
     "traceback": [
      "\u001b[1m\u001b[30m|   \u001b[1m\u001b[30m\u001b[0m\u001b[1m\u001b[30m\u001b[41mClassname\u001b[0m\u001b[1m\u001b[30m objectName = new Classname();\u001b[0m",
      "\u001b[1m\u001b[31mcannot find symbol\u001b[0m",
      "\u001b[1m\u001b[31m  symbol:   class Classname\u001b[0m",
      "",
      "\u001b[1m\u001b[30m|   \u001b[1m\u001b[30mClassname objectName = new \u001b[0m\u001b[1m\u001b[30m\u001b[41mClassname\u001b[0m\u001b[1m\u001b[30m();\u001b[0m",
      "\u001b[1m\u001b[31mcannot find symbol\u001b[0m",
      "\u001b[1m\u001b[31m  symbol:   class Classname\u001b[0m",
      ""
     ]
    }
   ],
   "source": [
    "// Step 1: declare an object in main or from outside the class\n",
    "\n",
    "\n",
    "Classname objectName = new Classname();"
   ]
  },
  {
   "cell_type": "markdown",
   "metadata": {},
   "source": [
    "2) Method Call: whenever you want to use the method, call objectName.methodName();"
   ]
  },
  {
   "cell_type": "code",
   "execution_count": null,
   "metadata": {},
   "outputs": [],
   "source": [
    "\n",
    "// Step 2: call the object's method\n",
    "\n",
    "\n",
    "objectName.methodName(); "
   ]
  },
  {
   "cell_type": "code",
   "execution_count": null,
   "metadata": {},
   "outputs": [],
   "source": []
  },
  {
   "cell_type": "markdown",
   "metadata": {},
   "source": [
    "3) Method Definition: write the method’s header and body code like below:"
   ]
  },
  {
   "cell_type": "code",
   "execution_count": null,
   "metadata": {},
   "outputs": [],
   "source": [
    "// Step 3: Define the method in the class\n",
    "\n",
    "\n",
    "// method header\n",
    "public void methodName()\n",
    "{\n",
    "      // method body for the code\n",
    "}"
   ]
  },
  {
   "cell_type": "markdown",
   "metadata": {},
   "source": [
    "### Identify Repetited Code"
   ]
  },
  {
   "cell_type": "code",
   "execution_count": null,
   "metadata": {},
   "outputs": [],
   "source": [
    "public static void main(String args[]) {\n",
    "        System.out.print(\"Monday\");\n",
    "        System.out.println (\"Code code code!\");\n",
    "        System.out.print(\"Tuesday\");\n",
    "        System.out.println (\"Code code code!\");\n",
    "        System.out.print(\"Wednesday\");\n",
    "        System.out.println (\"Code code code!\");\n",
    "        System.out.print(\"Thursday\");\n",
    "        System.out.println (\"Code code code!\");\n",
    "        System.out.print(\"Friday\");\n",
    "        System.out.println (\"Code code code!\");\n",
    "    }\n"
   ]
  },
  {
   "cell_type": "markdown",
   "metadata": {},
   "source": [
    "repetited line:\n",
    "\n",
    "System.out.println (\"Code code code!\")"
   ]
  },
  {
   "cell_type": "markdown",
   "metadata": {},
   "source": [
    "public void code(){\n",
    "    \n",
    "}"
   ]
  },
  {
   "cell_type": "markdown",
   "metadata": {},
   "source": [
    "## Parameters"
   ]
  },
  {
   "cell_type": "markdown",
   "metadata": {},
   "source": [
    "We can make methods even more powerful and more abstract by giving them parameters for data that they need to do their job. "
   ]
  },
  {
   "cell_type": "code",
   "execution_count": null,
   "metadata": {},
   "outputs": [],
   "source": [
    "class ClassName {\n",
    "    // static variable\n",
    "    public static type variableName;\n",
    "  \n",
    "    // static method\n",
    "    public static returnType methodName(parameters) {\n",
    "          // implementation not shown\n",
    "    }\n",
    "  }\n",
    "  // To call a static method or variable, use the Class Name\n",
    "  System.out.println(ClassName.staticVariable);\n",
    "  ClassName.staticMethod();"
   ]
  },
  {
   "cell_type": "markdown",
   "metadata": {},
   "source": [
    "| Static methods   | Static variables |\n",
    "| ----------- | ----------- |\n",
    "| include the keyword static before their name in the header or declaration, can be public or private   | include the keyword static before their name in the header or declaration, can be public or private        |\n",
    "| are associated with the class, not objects of the class    | belong to the class, with all objects of a class sharing a single static variable    |\n",
    "| cannot access or change the values of instance variables, but they can access or change the values of static variables   | used with the class name and the dot operator, since they are associated with a class, not objects of a class        |\n",
    "| cannot call non-static methods   |         |\n",
    "\n"
   ]
  },
  {
   "cell_type": "markdown",
   "metadata": {},
   "source": [
    "Static methods and variables include the keyword static before their name in the header or declaration. They can be public or private.\n",
    "\n",
    "Static variables belong to the class, with all objects of a class sharing a single static variable.\n",
    "\n",
    "Static methods are associated with the class, not objects of the class.\n",
    "\n",
    "Static variables are used with the class name and the dot operator, since they are associated with a class, not objects of a class.\n",
    "\n",
    "Static methods cannot access or change the values of instance variables, but they can access or change the values of static variables.\n",
    "\n",
    "Static methods cannot call non-static methods."
   ]
  },
  {
   "cell_type": "markdown",
   "metadata": {},
   "source": [
    "## Practice"
   ]
  },
  {
   "cell_type": "markdown",
   "metadata": {},
   "source": [
    "Consider the following class, which uses the instance variable dollars to represent the money in a wallet in dollars."
   ]
  },
  {
   "cell_type": "markdown",
   "metadata": {},
   "source": [
    "The putMoneyInWallet method is intended to increase the dollars in the wallet by the parameter amount and then return the updated dollars in the wallet. Which of the following code segments should replace missing code so that the putMoneyInWallet method will work as intended?"
   ]
  },
  {
   "cell_type": "code",
   "execution_count": null,
   "metadata": {},
   "outputs": [],
   "source": [
    "public class Wallet\n",
    "{\n",
    "    private double dollars;\n",
    "\n",
    "    public double putMoneyInWallet(int amount)\n",
    "    {\n",
    "        /* missing code */\n",
    "    }\n",
    "}"
   ]
  },
  {
   "cell_type": "code",
   "execution_count": null,
   "metadata": {},
   "outputs": [],
   "source": [
    "A.\n",
    "amount += dollars;\n",
    "return dollars;"
   ]
  },
  {
   "cell_type": "code",
   "execution_count": null,
   "metadata": {},
   "outputs": [],
   "source": [
    "B.\n",
    "dollars = amount;\n",
    "return amount;"
   ]
  },
  {
   "cell_type": "code",
   "execution_count": null,
   "metadata": {},
   "outputs": [],
   "source": [
    "C.\n",
    "dollars += amount;\n",
    "return dollars;"
   ]
  },
  {
   "cell_type": "code",
   "execution_count": null,
   "metadata": {},
   "outputs": [],
   "source": [
    "D.\n",
    "dollars = dollars + amount;\n",
    "return amount;"
   ]
  },
  {
   "cell_type": "code",
   "execution_count": null,
   "metadata": {},
   "outputs": [],
   "source": [
    "E.\n",
    "amount = dollars + amount;\n",
    "return dollars;"
   ]
  },
  {
   "cell_type": "code",
   "execution_count": null,
   "metadata": {},
   "outputs": [
    {
     "name": "stdout",
     "output_type": "stream",
     "text": [
      "This old man, he played one\n",
      "He played knick knack on my thumb\n",
      "With a knick knack paddy whack, give a dog a bone.\n",
      "This old man came rolling home.\n",
      "This old man, he played two\n",
      "He played knick knack on my shoe\n",
      "With a knick knack paddy whack, give a dog a bone.\n",
      "This old man came rolling home.\n"
     ]
    }
   ],
   "source": [
    "public class Song\n",
    "{\n",
    "\n",
    "  /** Verse - prints out a verse of the song\n",
    "   * @param number - a String like \"one\", \"two\", etc.\n",
    "   * @param rhyme - a String like \"thumb\", \"shoe\", etc.\n",
    "   */\n",
    "   public void verse(String number, String rhyme)\n",
    "   {\n",
    "     System.out.println(\"This old man, he played \" + number);\n",
    "     System.out.println(\"He played knick knack on my \" + rhyme);\n",
    "   }\n",
    "\n",
    "  // The chorus method\n",
    "  public void chorus()\n",
    "  {\n",
    "     System.out.println(\"With a knick knack paddy whack, give a dog a bone.\");\n",
    "     System.out.println(\"This old man came rolling home.\");\n",
    "  }\n",
    "\n",
    "  public static void main(String args[])\n",
    "  {\n",
    "      Song mySong = new Song();\n",
    "      mySong.verse(\"one\", \"thumb\");\n",
    "      mySong.chorus();\n",
    "      mySong.verse(\"two\", \"shoe\");\n",
    "      mySong.chorus();\n",
    "  }\n",
    "}\n",
    "\n",
    "Song.main(null);"
   ]
  },
  {
   "cell_type": "code",
   "execution_count": null,
   "metadata": {},
   "outputs": [],
   "source": [
    "//The Old Man Song\n",
    "public static void main(String args[]) {\n",
    "    System.out.println(\"This old man, he played one.\");\n",
    "    System.out.println(\"He played knick knack on my thumb. \");\n",
    "    System.out.println(\"With a knick knack paddy whack, give a dog a bone.\");\n",
    "    System.out.println(\"This old man came rolling home.\");\n",
    "    System.out.println(\"This old man, he played two.\");\n",
    "    System.out.println(\"He played knick knack on my shoe. \");\n",
    "    System.out.println(\"With a knick knack paddy whack, give a dog a bone.\");\n",
    "    System.out.println(\"This old man came rolling home.\");\n",
    "}"
   ]
  },
  {
   "cell_type": "code",
   "execution_count": null,
   "metadata": {},
   "outputs": [],
   "source": [
    "//chorus() method definition\n",
    "public void chorus()\n",
    "{\n",
    "      System.out.println(\"With a knick knack paddy whack, give a dog a bone.\");\n",
    "      System.out.println(\"This old man came rolling home.\");\n",
    "}"
   ]
  },
  {
   "cell_type": "code",
   "execution_count": null,
   "metadata": {},
   "outputs": [],
   "source": [
    "//chorus() method call\n",
    "mySong.chorus();"
   ]
  },
  {
   "cell_type": "markdown",
   "metadata": {},
   "source": [
    " ---"
   ]
  },
  {
   "cell_type": "markdown",
   "metadata": {},
   "source": [
    "Consider the class Temperature below which has a static variable. What is the output of the main method below?"
   ]
  },
  {
   "cell_type": "code",
   "execution_count": null,
   "metadata": {},
   "outputs": [],
   "source": [
    "public class Temperature\n",
    "{\n",
    "   private double temperature;\n",
    "   public static double maxTemp = 0;\n",
    "\n",
    "   public Temperature(double t)\n",
    "   {\n",
    "        temperature = t;\n",
    "        if (t > maxTemp)\n",
    "            maxTemp = t;\n",
    "   }\n",
    "\n",
    "   public static void main(String[] args)\n",
    "   {\n",
    "        Temperature t1 = new Temperature(75);\n",
    "        Temperature t2 = new Temperature(100);\n",
    "        Temperature t3 = new Temperature(65);\n",
    "        System.out.println(\"Max Temp: \" + Temperature.maxTemp);\n",
    "   }\n",
    " }"
   ]
  },
  {
   "cell_type": "markdown",
   "metadata": {},
   "source": [
    "A. Max Temp: 0\n",
    "\n",
    "B. There is a compiler error because the static variable maxTemp cannot be used inside a non-static constructor.\n",
    "\n",
    "C. Max Temp: 100\n",
    "\n",
    "D. Max Temp: 75\n",
    "\n",
    "E. Max Temp: 65"
   ]
  },
  {
   "cell_type": "markdown",
   "metadata": {},
   "source": [
    "hints: \n",
    "\n",
    "maxTemp is changed in each call to the Temperature() constructor\n",
    "\n",
    "Non-static methods and constructors can use any instance or static variables in the class"
   ]
  }
 ],
 "metadata": {
  "kernelspec": {
   "display_name": "Java",
   "language": "java",
   "name": "java"
  },
  "language_info": {
   "codemirror_mode": "java",
   "file_extension": ".jshell",
   "mimetype": "text/x-java-source",
   "name": "java",
   "pygments_lexer": "java",
   "version": "17.0.4+8"
  },
  "orig_nbformat": 4
 },
 "nbformat": 4,
 "nbformat_minor": 2
}
 
