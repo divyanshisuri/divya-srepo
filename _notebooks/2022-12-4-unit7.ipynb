{
 "cells": [
  {
   "cell_type": "markdown",
   "metadata": {},
   "source": [
    "# Unit 7 ArrayList\n",
    "- toc: true \n",
    "- badges: true\n",
    "- comments: true\n",
    "- categories: [jupyter]"
   ]
  },
  {
   "cell_type": "markdown",
   "metadata": {},
   "source": [
    "## Notes"
   ]
  },
  {
   "cell_type": "markdown",
   "metadata": {},
   "source": [
    "### Difference between Arrays and ArrayList\n",
    "\n",
    "| Arrays | ArrayLists |\n",
    "| -----  | ---------- |\n",
    "| Static (fixed size) | Dynamic (can change size) | \n",
    "| Fundamental java feature | Part of a framework. Someone was nice and designed this with the behind the scenes being arrays |\n",
    "| An object with no methods | A class with many methods |\n",
    "| Not as flexible | Designed to be more flexible |\n",
    "| Can store more primitive data | Not designed to store primitives, they store object references| \n",
    "| | Slightly slower than Arrays |\n",
    "| | Can only be used with an import statement |\n"
   ]
  },
  {
   "cell_type": "markdown",
   "metadata": {},
   "source": [
    "### Difference between List and ArrayList "
   ]
  },
  {
   "cell_type": "markdown",
   "metadata": {},
   "source": [
    "| List | ArrayList | \n",
    "| --- | --- | \n",
    "| It is an interface | It is class | \n",
    "| It creates a list of objects that can be accessed by the individual index number | It creates a dynamic array that can be expanded when needed | \n",
    "| It extends the collection framework. | It extends AbstractList class and implements the List interface | \n",
    "| It can not be instantiated | It can be instantiate | "
   ]
  },
  {
   "cell_type": "markdown",
   "metadata": {},
   "source": [
    "### Data Types"
   ]
  },
  {
   "cell_type": "markdown",
   "metadata": {},
   "source": [
    "Primitive Data Types:\n",
    "- boolean \n",
    "- char\n",
    "- double\n",
    "- int\n",
    "\n",
    "Wrapper Class Data Types\n",
    "(Store the primitive values as objects)\n",
    "- Boolean\n",
    "- Character\n",
    "- Double\n",
    "- Integer"
   ]
  },
  {
   "cell_type": "markdown",
   "metadata": {},
   "source": [
    "### ArrayList Methods"
   ]
  },
  {
   "cell_type": "markdown",
   "metadata": {},
   "source": [
    "size();\n",
    "- Returns the number of elements in the list\n",
    "\n",
    "add(obj);\n",
    "- Adds element at the end\n",
    "\n",
    "add(index, object);\n",
    "- Adds element at specific index\n",
    "\n",
    "remove(index);\n",
    "- Removes element from specific index\n",
    "\n",
    "set(index, object);\n",
    "- Replaces element at index with new object\n",
    "\n",
    "get(index);\n",
    "- Returns element at index\n"
   ]
  },
  {
   "cell_type": "markdown",
   "metadata": {},
   "source": [
    "use size.() to return length/number of elements instead of .length()\n",
    "use get() instead of bracket notation for getting an element of an arraylist"
   ]
  },
  {
   "cell_type": "markdown",
   "metadata": {},
   "source": [
    "### Common Mistakes"
   ]
  },
  {
   "cell_type": "markdown",
   "metadata": {},
   "source": [
    "- don't forget to import java.util.ArrayList\n",
    "- don't declare or instantiate ArrayList with a primitive data type, which are things such as int, double, and booleans. \n",
    "- don't forget the parentheses at the end of the constructor and the element types with the brackets: ArrayList<String> list = new ArrayList<String>(); \n",
    "- don't confuse arrays with arraylists, don't use [], don't use .length use .size() instead "
   ]
  },
  {
   "cell_type": "markdown",
   "metadata": {},
   "source": [
    "## Hack 1"
   ]
  },
  {
   "cell_type": "code",
   "execution_count": 1,
   "metadata": {
    "vscode": {
     "languageId": "java"
    }
   },
   "outputs": [
    {
     "name": "stdout",
     "output_type": "stream",
     "text": [
      "1\n",
      "[Emily]\n"
     ]
    }
   ],
   "source": [
    "// HACK!!!!\n",
    "// Create an arrayList and use one of the cool methods for it\n",
    "\n",
    "import java.util.ArrayList; \n",
    "\n",
    "public class hack1 {\n",
    "    public static void main (String[] args) {\n",
    "       ArrayList<String> names = new ArrayList<String>();\n",
    "       names.add(\"Linda\");\n",
    "       names.add(\"Emily\");\n",
    "       names.remove(0);  //remove first item\n",
    "       System.out.println(names.size()); //.size() = .length(), .length() is for String\n",
    "       System.out.println(names);\n",
    "    }\n",
    "}\n",
    "\n",
    "hack1.main(null);"
   ]
  },
  {
   "cell_type": "markdown",
   "metadata": {},
   "source": [
    "## Hack 2"
   ]
  },
  {
   "cell_type": "code",
   "execution_count": 2,
   "metadata": {
    "vscode": {
     "languageId": "java"
    }
   },
   "outputs": [
    {
     "name": "stdout",
     "output_type": "stream",
     "text": [
      "[green box, blue water]\n"
     ]
    }
   ],
   "source": [
    "//hack 2\n",
    "\n",
    "import java.util.ArrayList;\n",
    "\n",
    "public class hack2 {\n",
    "    public static void main (String[] args) {\n",
    "ArrayList<String> color = new ArrayList<String>(); \n",
    "color.add(\"red apple\");\n",
    "color.add(\"green box\");\n",
    "color.add(\"blue water\");\n",
    "color.add(\"red panda\");\n",
    "\n",
    "for (int i=0; i<color.size(); i++){ //use .size() instead of .length()\n",
    "    if(color.get(i).contains(\"red\")) {\n",
    "        color.remove(i);\n",
    "    }\n",
    "}\n",
    "    System.out.println(color);\n",
    "\n",
    "    }\n",
    "}\n",
    "\n",
    "hack2.main(null);\n",
    "\n",
    "/*/ \n",
    "using \n",
    "\n",
    "if(color.get(i).contains(\"red\"))\n",
    "\n",
    "iterate through the arraylist and remove all elements that contain the word red in them\n",
    "/*/\n"
   ]
  },
  {
   "cell_type": "markdown",
   "metadata": {},
   "source": [
    "## Hack 3"
   ]
  },
  {
   "cell_type": "code",
   "execution_count": 3,
   "metadata": {
    "vscode": {
     "languageId": "java"
    }
   },
   "outputs": [
    {
     "name": "stdout",
     "output_type": "stream",
     "text": [
      "9\n"
     ]
    }
   ],
   "source": [
    "//hack 3\n",
    "// find the sum of the elements in the arraylist\n",
    "\n",
    "ArrayList<Integer> num = new ArrayList<Integer>(); \n",
    "\n",
    "num.add(5);\n",
    "num.add(1);\n",
    "num.add(3);\n",
    "\n",
    "int sum = 0; \n",
    "for (int i=0; i<num.size(); i++) { \n",
    "    sum += num.get(i); //find sum by adding all items in ArrayList\n",
    "}\n",
    "\n",
    "System.out.println(sum);\n"
   ]
  },
  {
   "cell_type": "markdown",
   "metadata": {},
   "source": [
    "# Screenshot of Quizizz Completed"
   ]
  },
  {
   "cell_type": "markdown",
   "metadata": {},
   "source": [
   ]
  }
 ],
 "metadata": {
  "kernelspec": {
   "display_name": "Java",
   "language": "java",
   "name": "java"
  },
  "language_info": {
   "codemirror_mode": "java",
   "file_extension": ".jshell",
   "mimetype": "text/x-java-source",
   "name": "Java",
   "pygments_lexer": "java",
   "version": "17.0.5+0"
  },
  "orig_nbformat": 4
 },
 "nbformat": 4,
 "nbformat_minor": 2
}
