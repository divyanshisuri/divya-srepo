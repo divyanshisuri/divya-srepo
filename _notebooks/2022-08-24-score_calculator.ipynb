{
 "cells": [
  {
   "cell_type": "markdown",
   "metadata": {},
   "source": [
    "# Basic Primitive and Wrapper Classes Usage"
   ]
  },
  {
   "cell_type": "code",
   "execution_count": 25,
   "metadata": {},
   "outputs": [
    {
     "name": "stdout",
     "output_type": "stream",
     "text": [
      "3.45\n"
     ]
    }
   ],
   "source": [
    "int a = 1;\n",
    "float b = 2.45f;\n",
    "float sum = (a + b);\n",
    "System.out.println(sum);"
   ]
  },
  {
   "cell_type": "code",
   "execution_count": 26,
   "metadata": {},
   "outputs": [
    {
     "name": "stdout",
     "output_type": "stream",
     "text": [
      "divya suri\n"
     ]
    }
   ],
   "source": [
    "String x = \"divya\";\n",
    "String y = \"suri\";\n",
    "String name = x + \" \" + y;\n",
    "System.out.println(name);"
   ]
  },
  {
   "cell_type": "code",
   "execution_count": 27,
   "metadata": {},
   "outputs": [
    {
     "name": "stdout",
     "output_type": "stream",
     "text": [
      "divya is taking CSA\n"
     ]
    }
   ],
   "source": [
    "boolean is_taking_CSA = true;\n",
    "boolean is_taking_CSP = false;\n",
    "\n",
    "if (is_taking_CSP){\n",
    "\n",
    "    System.out.println(\"divya is taking CSP\");\n",
    "}\n",
    "\n",
    "else if (is_taking_CSA){\n",
    "\n",
    "    System.out.println(\"divya is taking CSA\");\n",
    "\n",
    "}"
   ]
  },
  {
   "cell_type": "markdown",
   "metadata": {},
   "source": [
    "# Score Calculator - (in calculus)"
   ]
  },
  {
   "cell_type": "code",
   "execution_count": 63,
   "metadata": {},
   "outputs": [
    {
     "name": "stdout",
     "output_type": "stream",
     "text": [
      "enter the score you got\n",
      "7.0\n",
      "enter what the score is out off\n",
      "10\n",
      "70.0%\n",
      "You passed: true\n"
     ]
    }
   ],
   "source": [
    "import java.util.Scanner;\n",
    "\n",
    "    try {\n",
    "      Scanner numerator = new Scanner(System.in);  // creating a scanner object\n",
    "      String score_text = \"enter the score you got\"; //usage of string to print a message\n",
    "      System.out.println(score_text); // score they got is a float, because the points recieved could be fractional\n",
    "      float score = Integer.parseInt(numerator.nextLine());  // read user input\n",
    "      System.out.println(score);\n",
    "      \n",
    "      Scanner denominator = new Scanner(System.in);  // creating another scanner object\n",
    "      String out_off_text = \"enter what the score is out off\"; //usage of strings again\n",
    "      System.out.println(out_off_text); \n",
    "      int out_off = Integer.parseInt(denominator.nextLine());  // out off is an int - something is out off is typically a whole #\n",
    "      System.out.println(out_off);\n",
    "      \n",
    "      float temp_score = (score / out_off);\n",
    "      float final_score = temp_score * 100f; //divide the two numbers, and multiple by a 100 - in float form bc score/out_off \n",
    "                                             // could be fractional\n",
    "      System.out.println(final_score + \"%\");  // print the percentage as a float\n",
    "\n",
    "      boolean passed = false; //using boolean to see if you have passed the class\n",
    "      if (final_score > 68.0){\n",
    "        passed = true;\n",
    "        System.out.println(\"You passed: \" + passed);\n",
    "      }\n",
    "      else {\n",
    "        System.out.println(\"You passed: \" +  passed);\n",
    "      }\n",
    "      \n",
    "    } catch (Exception e) {\n",
    "      //TODO: handle exception\n",
    "    }    \n",
    " "
   ]
  }
 ],
 "metadata": {
  "kernelspec": {
   "display_name": "Java",
   "language": "java",
   "name": "java"
  },
  "language_info": {
   "codemirror_mode": "java",
   "file_extension": ".jshell",
   "mimetype": "text/x-java-source",
   "name": "java",
   "pygments_lexer": "java",
   "version": "11.0.16+8-post-Ubuntu-0ubuntu120.04"
  },
  "orig_nbformat": 4,
  "vscode": {
   "interpreter": {
    "hash": "916dbcbb3f70747c44a77c7bcd40155683ae19c65e1c03b4aa3499c5328201f1"
   }
  }
 },
 "nbformat": 4,
 "nbformat_minor": 2
}
