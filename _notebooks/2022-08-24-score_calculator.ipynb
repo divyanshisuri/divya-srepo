{
 "cells": [
  {
   "cell_type": "markdown",
   "metadata": {},
   "source": [
    "# Basic Primitive and Wrapper Classes Usage"
   ]
  },
  {
   "cell_type": "code",
   "execution_count": 25,
   "metadata": {},
   "outputs": [
    {
     "name": "stdout",
     "output_type": "stream",
     "text": [
      "3.45\n"
     ]
    }
   ],
   "source": [
    "int a = 1;\n",
    "float b = 2.45f;\n",
    "float sum = (a + b);\n",
    "System.out.println(sum);"
   ]
  },
  {
   "cell_type": "code",
   "execution_count": 26,
   "metadata": {},
   "outputs": [
    {
     "name": "stdout",
     "output_type": "stream",
     "text": [
      "divya suri\n"
     ]
    }
   ],
   "source": [
    "String x = \"divya\";\n",
    "String y = \"suri\";\n",
    "String name = x + \" \" + y;\n",
    "System.out.println(name);"
   ]
  },
  {
   "cell_type": "code",
   "execution_count": 27,
   "metadata": {},
   "outputs": [
    {
     "name": "stdout",
     "output_type": "stream",
     "text": [
      "divya is taking CSA\n"
     ]
    }
   ],
   "source": [
    "boolean is_taking_CSA = true;\n",
    "boolean is_taking_CSP = false;\n",
    "\n",
    "if (is_taking_CSP){\n",
    "\n",
    "    System.out.println(\"divya is taking CSP\");\n",
    "}\n",
    "\n",
    "else if (is_taking_CSA){\n",
    "\n",
    "    System.out.println(\"divya is taking CSA\");\n",
    "\n",
    "}"
   ]
  }
