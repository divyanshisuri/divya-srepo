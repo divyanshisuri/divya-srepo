{
 "cells": [
  {
   "cell_type": "markdown",
   "metadata": {},
   "source": [
    "# Hotels Api\n",
    "\n",
    "- toc: true \n",
    "- badges: true\n",
    "- comments: true\n",
    "- categories: [jupyter]"
   ]
  },
  {
   "cell_type": "markdown",
   "metadata": {},
   "source": [
    "---"
   ]
  },
  {
   "cell_type": "markdown",
   "metadata": {},
   "source": [
    "- An HttpClient can be used to send requests and retrieve their responses\n",
    "- An HttpRequest sets up header and body to API provider\n",
    "- An HttpResponse is returned as a result of sending an HttpRequest"
   ]
  },
  {
   "cell_type": "code",
   "execution_count": 9,
   "metadata": {
    "vscode": {
     "languageId": "java"
    }
   },
   "outputs": [
    {
     "name": "stdout",
     "output_type": "stream",
     "text": [
     ]
    }
   ],
   "source": [
    "import java.net.URI;\n",
    "import java.net.http.HttpClient;\n",
    "import java.net.http.HttpRequest;\n",
    "import java.net.http.HttpResponse;\n",
    "\n",
    "HttpRequest request = HttpRequest.newBuilder()\n",
    "    .uri(URI.create(\"https://hotels4.p.rapidapi.com/v2/get-meta-data\"))\n",
    "    .header(\"x-rapidapi-key\", \"80afb5b6afmsh552d92e769ba3a5p1bfac9jsnfb6c407dd20f\")\n",
    "    .header(\"x-rapidapi-host\", \"hotels4.p.rapidapi.com\")\n",
    "    .method(\"GET\", HttpRequest.BodyPublishers.noBody())\n",
    "    .build();\n",
    "\n",
    "//RapidAPI request and response\n",
    "HttpResponse<String> response = HttpClient.newHttpClient().send(request, HttpResponse.BodyHandlers.ofString());\n",
    "\n",
    "//RapidAPI Body\n",
    "System.out.println(response.body());"
   ]
  },
  {
   "cell_type": "code",
   "execution_count": 10,
   "metadata": {
    "vscode": {
     "languageId": "java"
    }
   },
   "outputs": [
    {
     "ename": "CompilationException",
     "evalue": "",
     "output_type": "error",
     "traceback": [
      "\u001b[1m\u001b[30m|   \u001b[1m\u001b[30mimport \u001b[0m\u001b[1m\u001b[30m\u001b[41morg.json.simple.JSONObject\u001b[0m\u001b[1m\u001b[30m;\u001b[0m",
      "\u001b[1m\u001b[31mpackage org.json.simple does not exist\u001b[0m",
      ""
     ]
    }
   ],
   "source": [
    "import java.net.URI;\n",
    "import java.net.http.HttpClient;\n",
    "import java.net.http.HttpRequest;\n",
    "import java.net.http.HttpResponse;\n",
    "import java.util.Date;\n",
    "import java.util.HashMap;\n",
    "\n",
    "import org.json.simple.JSONObject;\n",
    "import org.json.simple.parser.JSONParser;\n",
    "import org.springframework.http.HttpStatus;\n",
    "import org.springframework.http.ResponseEntity;\n",
    "import org.springframework.web.bind.annotation.*;\n",
    "\n",
    "@RestController // annotation to create a RESTful web services\n",
    "@RequestMapping(\"/api/flights\")  //prefix of API\n",
    "public class flights {\n",
    "    private JSONObject body; //last run result\n",
    "    private HttpStatus status; //last run status\n",
    "    String last_run = null; //last run day of month\n",
    "\n",
    "    @GetMapping(\"/monthly\")   //added to end of prefix as endpoint\n",
    "    public ResponseEntity<JSONObject> flights() {\n",
    "\n",
    "        //calls API once a day, sets body and status properties\n",
    "        String today = new Date().toString().substring(0,500); \n",
    "        if (last_run == null || !today.equals(last_run))\n",
    "        {\n",
    "            try { \n",
    "\n",
    "                HttpRequest request = HttpRequest.newBuilder()\n",
    "                 .uri(URI.create(\"https://hotels4.p.rapidapi.com/v2/get-meta-data\"))\n",
    "                 .header(\"x-rapidapi-key\", \"80afb5b6afmsh552d92e769ba3a5p1bfac9jsnfb6c407dd20f\")\n",
    "                 .header(\"x-rapidapi-host\", \"hotels4.p.rapidapi.com\")\n",
    "                 .method(\"GET\", HttpRequest.BodyPublishers.noBody())\n",
    "                 .build();\n",
    "                
    "                 .build();\n",
    "\n",
    "                //RapidAPI request and response\n",
    "                HttpResponse<String> response = HttpClient.newHttpClient().send(request, HttpResponse.BodyHandlers.ofString());\n",
    "\n",
    "                //JSONParser extracts text body and parses to JSONObject\n",
    "                this.body = (JSONObject) new JSONParser().parse(response.body());\n",
    "                this.status = HttpStatus.OK;  //200 success\n",
    "                this.last_run = today;\n",
    "            }\n",
    "            catch (Exception e) {  //capture failure info\n",
    "                HashMap<String, String> status = new HashMap<>();\n",
    "                status.put(\"status\", \"RapidApi failure: \" + e);\n",
    "\n",
    "                //Setup object for error\n",
    "                this.body = (JSONObject) status;\n",
    "                this.status = HttpStatus.INTERNAL_SERVER_ERROR; //500 error\n",
    "                this.last_run = null;\n",
    "            }\n",
    "        }\n",
    "\n",
    "        //return JSONObject in RESTful style\n",
    "        return new ResponseEntity<>(body, status);\n",
    "    }\n",
    "}\n"
   ]
  },
  {
   "cell_type": "markdown",
   "metadata": {},
   "source": [
    "### Benefit of using and API?\n",
    "  - APIs can be found all over the internet. We can just use a few lines of code to get lots of data from the internet, so it is easier, more efficient, and less time consuming."
   ]
  },
  {
   "cell_type": "markdown",
   "metadata": {},
   "source": [
    "### Benefit(s) of backend implementation?\n",
    "  - Can set limit on how many times an api could run in a day or a month so that it would not exceed the maximun amount; for exmaple, the flights api (free subscription) only allows the api to be run 500 times per month"
   ]
  }
 ],
 "metadata": {
  "kernelspec": {
   "display_name": "Java",
   "language": "java",
   "name": "java"
  },
  "language_info": {
   "codemirror_mode": "java",
   "file_extension": ".jshell",
   "mimetype": "text/x-java-source",
   "name": "Java",
   "pygments_lexer": "java",
   "version": "17.0.4+8"
  },
  "orig_nbformat": 4
 },
 "nbformat": 4,
 "nbformat_minor": 2
}
