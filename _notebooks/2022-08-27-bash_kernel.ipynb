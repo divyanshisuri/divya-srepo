{
 "cells": [
  {
   "cell_type": "markdown",
   "metadata": {},
   "source": [
    "# Tools installation \n"
   ]
  },
  {
   "cell_type": "code",
   "execution_count": 1,
   "metadata": {
    "vscode": {
     "languageId": "shellscript"
    }
   },
   "outputs": [
    {
     "name": "stdout",
     "output_type": "stream",
     "text": [
      "Using conditional statement to create a project directory and project\n",
      "Directory /home/divya/vscode exists.\n",
      "Directory /home/divya/vscode/APCSA does not exists... cloning https://github.com/nighthawkcoders/APCSA.git\n",
      "Cloning into 'APCSA'...\n",
      "remote: Enumerating objects: 8951, done.\u001b[K\n",
      "remote: Counting objects: 100% (428/428), done.\u001b[K\n",
      "remote: Compressing objects: 100% (206/206), done.\u001b[K\n",
      "remote: Total 8951 (delta 248), reused 380 (delta 213), pack-reused 8523\u001b[K\n",
      "Receiving objects: 100% (8951/8951), 14.50 MiB | 1.78 MiB/s, done.\n",
      "Resolving deltas: 100% (5022/5022), done.\n",
      "Directory /home/divya/vscode/APCSA exists.\n"
     ]
    }
   ],
   "source": [
    "echo \"Using conditional statement to create a project directory and project\"\n",
    "\n",
    "# Variable section\n",
    "export project_dir=$HOME/vscode  # change vscode to different name to test git clone\n",
    "export project=$project_dir/APCSA  # change APCSA to name of project from git clone\n",
    "export project_repo=\"https://github.com/nighthawkcoders/APCSA.git\"  # change to project of choice\n",
    "\n",
    "cd ~    # start in home directory\n",
    "\n",
    "# Conditional block to make a project directory\n",
    "if [ ! -d $project_dir ]\n",
    "then \n",
    "    echo \"Directory $project_dir does not exists... makinng directory $project_dir\"\n",
    "    mkdir -p $project_dir\n",
    "fi\n",
    "echo \"Directory $project_dir exists.\" \n",
    "\n",
    "# Conditional block to git clone a project from project_repo\n",
    "if [ ! -d $project ]\n",
    "then\n",
    "    echo \"Directory $project does not exists... cloning $project_repo\"\n",
    "    cd $project_dir\n",
    "    git clone $project_repo\n",
    "    cd ~\n",
    "fi\n",
    "echo \"Directory $project exists.\""
   ]
  },
  {
   "cell_type": "markdown",
   "metadata": {},
   "source": [
    "### lis (ls)\n",
    "\n",
    "ls is used to list all the directories in the main directory. \n",
    "ls -a is used to list all the hidden files"
   ]
  },
  {
   "cell_type": "code",
   "execution_count": 5,
   "metadata": {
    "vscode": {
     "languageId": "shellscript"
    }
   },
   "outputs": [
    {
     "name": "stdout",
     "output_type": "stream",
     "text": [
      "Navigate to project, then navigate to area wwhere files were cloned\n",
      "/home/divya\n",
      "\n",
      "list top level or root of files with project pulled from github\n",
      "\u001b[0m\u001b[01;34mAPCSA\u001b[0m                                \u001b[01;31mijava-1.3.0.zip\u001b[0m\n",
      "\u001b[01;32mAnaconda3-2022.05-Linux-x86_64.sh\u001b[0m    install.py\n",
      "Anaconda3-2022.05-Linux-x86_64.sh.1  \u001b[01;34mjava\u001b[0m\n",
      "Anaconda3-2022.05-Linux-x86_64.sh.2  \u001b[01;34mjunk\u001b[0m\n",
      "Anaconda3-2022.05-Linux-x86_64.sh.3  \u001b[01;34mvscode\u001b[0m\n",
      "\u001b[01;34manaconda3\u001b[0m\n",
      "\n",
      "list again with hidden files pulled from github\n",
      "\u001b[0m\u001b[01;34m.\u001b[0m              \u001b[01;34m.landscape\u001b[0m                 .wget-hsts\n",
      "\u001b[01;34m..\u001b[0m             .lesshst                   \u001b[01;34mAPCSA\u001b[0m\n",
      ".bash_history  \u001b[01;34m.local\u001b[0m                     \u001b[01;32mAnaconda3-2022.05-Linux-x86_64.sh\u001b[0m\n",
      ".bash_logout   \u001b[01;34m.m2\u001b[0m                        Anaconda3-2022.05-Linux-x86_64.sh.1\n",
      ".bashrc        .motd_shown                Anaconda3-2022.05-Linux-x86_64.sh.2\n",
      "\u001b[01;34m.cache\u001b[0m         \u001b[01;34m.node-gyp\u001b[0m                  Anaconda3-2022.05-Linux-x86_64.sh.3\n",
      "\u001b[01;34m.conda\u001b[0m         \u001b[01;34m.npm\u001b[0m                       \u001b[01;34manaconda3\u001b[0m\n",
      "\u001b[01;34m.config\u001b[0m        .profile                   \u001b[01;31mijava-1.3.0.zip\u001b[0m\n",
      "\u001b[01;34m.dbus\u001b[0m          .sudo_as_admin_successful  install.py\n",
      ".gitconfig     \u001b[01;34m.vim\u001b[0m                       \u001b[01;34mjava\u001b[0m\n",
      "\u001b[01;34m.ipython\u001b[0m       .viminfo                   \u001b[01;34mjunk\u001b[0m\n",
      "\u001b[01;34m.jupyter\u001b[0m       \u001b[01;34m.vscode-server\u001b[0m             \u001b[01;34mvscode\u001b[0m\n",
      "bash: cd: /home/divya/vscode/divya-srepo/: No such file or directory\n",
      "\n",
      "list all files in long format\n",
      "total 2702080\n",
      "drwxr-xr-x 20 divya divya      4096 Aug 23 08:50 \u001b[0m\u001b[01;34m.\u001b[0m\n",
      "drwxr-xr-x  3 root  root       4096 Aug 18 22:39 \u001b[01;34m..\u001b[0m\n",
      "-rw-------  1 divya divya     15229 Aug 26 00:22 .bash_history\n",
      "-rw-r--r--  1 divya divya       220 Aug 18 22:39 .bash_logout\n",
      "-rw-r--r--  1 divya divya      4246 Aug 19 09:38 .bashrc\n",
      "drwxr-xr-x  7 divya divya      4096 Aug 23 08:50 \u001b[01;34m.cache\u001b[0m\n",
      "drwxr-xr-x  2 divya divya      4096 Aug 19 09:23 \u001b[01;34m.conda\u001b[0m\n",
      "drwxr-xr-x  3 divya divya      4096 Aug 23 08:50 \u001b[01;34m.config\u001b[0m\n",
      "drwx------  3 divya divya      4096 Aug 20 17:56 \u001b[01;34m.dbus\u001b[0m\n",
      "-rw-r--r--  1 divya divya        56 Aug 18 22:51 .gitconfig\n",
      "drwxr-xr-x  3 divya divya      4096 Aug 20 18:46 \u001b[01;34m.ipython\u001b[0m\n",
      "drwxr-xr-x  2 divya divya      4096 Aug 20 11:29 \u001b[01;34m.jupyter\u001b[0m\n",
      "drwxr-xr-x  2 divya divya      4096 Aug 18 22:39 \u001b[01;34m.landscape\u001b[0m\n",
      "-rw-------  1 divya divya        28 Aug 20 18:35 .lesshst\n",
      "drwxr-xr-x  5 divya divya      4096 Aug 20 18:46 \u001b[01;34m.local\u001b[0m\n",
      "drwxr-xr-x  3 divya divya      4096 Aug 21 21:48 \u001b[01;34m.m2\u001b[0m\n",
      "-rw-r--r--  1 divya divya         0 Aug 26 08:36 .motd_shown\n",
      "drwxr-xr-x  3 divya divya     4096 Aug 20 11:30 \u001b[01;34m.node-gyp\u001b[0m\n",
      "drwxr-xr-x 13 divya divya      4096 Aug 20 16:27 \u001b[01;34m.npm\u001b[0m\n",
      "-rw-r--r--  1 divya divya       807 Aug 18 22:39 .profile\n",
      "-rw-r--r--  1 divya divya         0 Aug 18 22:44 .sudo_as_admin_successful\n",
      "drwxr-xr-x  2 divya divya      4096 Aug 21 19:39 \u001b[01;34m.vim\u001b[0m\n",
      "-rw-------  1 divya divya       805 Aug 21 19:39 .viminfo\n",
      "drwxr-xr-x  5 divya divya      4096 Aug 18 23:03 \u001b[01;34m.vscode-server\u001b[0m\n",
      "-rw-r--r--  1 divya divya       218 Aug 20 18:58 .wget-hsts\n",
      "drwxr-xr-x 17 divya divya      4096 Aug 23 08:46 \u001b[01;34mAPCSA\u001b[0m\n",
      "-rwxr-xr-x  1 divya divya 690850711 May 10 11:35 \u001b[01;32mAnaconda3-2022.05-Linux-x86_64.sh\u001b[0m\n",
      "-rw-r--r--  1 divya divya 690850711 May 10 11:35 Anaconda3-2022.05-Linux-x86_64.sh.1\n",
      "-rw-r--r--  1 divya divya 690850711 May 10 11:35 Anaconda3-2022.05-Linux-x86_64.sh.2\n",
      "-rw-r--r--  1 divya divya 690850711 May 10 11:35 Anaconda3-2022.05-Linux-x86_64.sh.3\n",
      "drwxr-xr-x 28 divya divya      4096 Aug 20 11:29 \u001b[01;34manaconda3\u001b[0m\n",
      "-rw-r--r--  1 divya divya   3366077 Dec  6  2021 \u001b[01;31mijava-1.3.0.zip\u001b[0m\n",
      "-rw-r--r--  1 divya divya      7471 May  5  2019 install.py\n",
      "drwxr-xr-x  3 divya divya      4096 May  5  2019 \u001b[01;34mjava\u001b[0m\n",
      "drwxr-xr-x  4 divya divya     4096 Aug 21 20:08 \u001b[01;34mjunk\u001b[0m\n",
      "drwxr-xr-x 20 divya divya     4096 Aug 25 23:11 \u001b[01;34mvscode\u001b[0m\n"
     ]
    }
   ],
   "source": [
    "echo \"Navigate to project, then navigate to area wwhere files were cloned\"\n",
    "cd $project\n",
    "pwd\n",
    "\n",
    "echo \"\"\n",
    "echo \"list top level or root of files with project pulled from github\"\n",
    "ls\n",
    "\n",
    "echo \"\"\n",
    "echo \"list again with hidden files pulled from github\"\n",
    "ls -a   # hidden files flag, many shell commands have flags\n",
    "\n",
    "cd /home/divya/vscode/divya-srepo/\n",
    "echo \"\"\n",
    "echo \"list all files in long format\"\n",
    "ls -al   # all files and long listing"
   ]
  },
  {
   "cell_type": "markdown",
   "metadata": {},
   "source": [
    "### all the posts appear\n",
    "ls -l does this function, as cd is set to the posts folder"
   ]
  },
  {
   "cell_type": "code",
   "execution_count": 1,
   "metadata": {
    "vscode": {
     "languageId": "shellscript"
    }
   },
   "outputs": [
    {
     "name": "stdout",
     "output_type": "stream",
     "text": [
      "Look for posts\n",
      "bash: cd: /_posts: No such file or directory\n",
      "/home/divya/vscode/divya-srepo/_notebooks\n",
      "bash: cd: /home/divya/vscode/divya-srepo/_posts: No such file or directory\n",
      "total 3144\n",
      "-rw-r--r-- 1 divya divya 3162470 Aug 21 19:36 2020-02-20-test.ipynb\n",
      "-rw-r--r-- 1 divya divya     888 Aug 24 10:16 2022-08-20-java.ipynb\n",
      "-rw-r--r-- 1 divya divya     941 Aug 23 22:26 2022-08-20-python.ipynb\n",
      "-rw-r--r-- 1 divya divya    4288 Aug 25 22:57 2022-08-24-score_calculator.ipynb\n",
      "-rw-r--r-- 1 divya divya   23435 Aug 25 23:18 2022-08-25-bash_kernel.ipynb\n",
      "-rw-r--r-- 1 divya divya     771 Aug 21 19:36 README.md\n",
      "drwxr-xr-x 2 divya divya    4096 Aug 21 19:36 \u001b[0m\u001b[01;34mghtop_images\u001b[0m\n",
      "drwxr-xr-x 2 divya divya    4096 Aug 21 19:36 \u001b[01;34mmy_icons\u001b[0m\n"
     ]
    }
   ],
   "source": [
    "echo \"Look for posts\"\n",
    "export posts=$project/_posts  # _posts inside project\n",
    "cd $posts  # this should exist per fastpages\n",
    "pwd  # present working directory\n",
    "cd /home/divya/vscode/divya-srepo/_posts\n",
    "\n",
    "ls -l  # list posts"
   ]
  },
  {
   "cell_type": "markdown",
   "metadata": {},
   "source": [
    "### All the notebook files appear \n",
    "ls -l does this function, as cd is set to the notebooks folder"
   ]
  },
  {
   "cell_type": "code",
   "execution_count": 2,
   "metadata": {
    "vscode": {
     "languageId": "shellscript"
    }
   },
   "outputs": [
    {
     "name": "stdout",
     "output_type": "stream",
     "text": [
      "Look for notebooks\n",
      "bash: cd: /_notebooks: No such file or directory\n",
      "/home/divya/vscode/divya-srepo/_notebooks\n",
      "bash: cd: /home/divya/vscode/divya-srepo/_notebooks: No such file or directory\n",
      "total 3144\n",
      "-rw-r--r-- 1 divya divya 3162470 Aug 21 19:36 2020-02-20-test.ipynb\n",
      "-rw-r--r-- 1 divya divya     888 Aug 24 10:16 2022-08-20-java.ipynb\n",
      "-rw-r--r-- 1 divya divya     941 Aug 23 22:26 2022-08-20-python.ipynb\n",
      "-rw-r--r-- 1 divya divya    4288 Aug 25 22:57 2022-08-24-score_calculator.ipynb\n",
      "-rw-r--r-- 1 divya divya   23435 Aug 25 23:18 2022-08-25-bash_kernel.ipynb\n",
      "-rw-r--r-- 1 divya divya     771 Aug 21 19:36 README.md\n",
      "drwxr-xr-x 2 divya divya    4096 Aug 21 19:36 \u001b[0m\u001b[01;34mghtop_images\u001b[0m\n",
      "drwxr-xr-x 2 divya divya    4096 Aug 21 19:36 \u001b[01;34mmy_icons\u001b[0m\n"
     ]
    }
   ],
   "source": [
    "echo \"Look for notebooks\"\n",
    "export notebooks=$project/_notebooks  # _notebooks is inside project\n",
    "cd $notebooks   # this should exist per fastpages\n",
    "pwd  # present working directory\n",
    "\n",
    "cd /home/divya/vscode/divya-srepo/_notebooks\n",
    "ls -l  # list notebooks"
   ]
  },
  {
   "cell_type": "markdown",
   "metadata": {},
   "source": [
    "### This returns the contents in the read me file"
   ]
  },
  {
   "cell_type": "code",
   "execution_count": 6,
   "metadata": {
    "vscode": {
     "languageId": "shellscript"
    }
   },
   "outputs": [
    {
     "name": "stdout",
     "output_type": "stream",
     "text": [
      "Navigate to project, then navigate to area wwhere files were cloned\n",
      "show the contents of README.md\n",
      "\n",
      "cat: README.md: No such file or directory\n",
      "bash: cd: /home/divya/vscode/divya-srepo/README.md: No such file or directory\n",
      "\n",
      "end of README.md\n"
     ]
    }
   ],
   "source": [
    "echo \"Navigate to project, then navigate to area wwhere files were cloned\"\n",
    "\n",
    "cd $project\n",
    "echo \"show the contents of README.md\"\n",
    "echo \"\"\n",
    "\n",
    "cat README.md  # show contents of file, in this case markdown\n",
    "cd /home/divya/vscode/divya-srepo/README.md\n",
    "\n",
    "echo \"\"\n",
    "echo \"end of README.md\""
   ]
  },
  {
   "cell_type": "markdown",
   "metadata": {},
   "source": [
    "### env\n",
    "env command is for the enviroment. It returns all the environments that have been set up. We can check whether all the required environments have been set. "
   ]
  },
  {
   "cell_type": "code",
   "execution_count": 7,
   "metadata": {
    "vscode": {
     "languageId": "shellscript"
    }
   },
   "outputs": [
    {
     "name": "stdout",
     "output_type": "stream",
     "text": [
      "Show the shell environment variables, key on left of equal value on right\n",
      "\n",
      "SHELL=/bin/bash\n",
      "PYTHONUNBUFFERED=1\n",
      "project=/home/divya/vscode/APCSA\n",
      "CONDA_EXE=/home/divya/anaconda3/bin/conda\n",
      "_CE_M=\n",
      "WSL_DISTRO_NAME=Ubuntu\n",
      "ELECTRON_RUN_AS_NODE=1\n",
      "VSCODE_AMD_ENTRYPOINT=vs/workbench/api/node/extensionHostProcess\n",
      "NAME=Code\n",
      "PWD=/home/divyaa/vscode/APCSA\n",
      "LOGNAME=divya\n",
      "CONDA_PREFIX=/home/divya/anaconda3\n",
      "MOTD_SHOWN=update-motd\n",
      "project_dir=/home/divya/vscode\n",
      "HOME=/home/divya\n",
      "LANG=C.UTF-8\n",
      "WSL_INTEROP=/run/WSL/8_interop\n",
      "LS_COLORS=rs=0:di=01;34:ln=01;36:mh=00:pi=40;33:so=01;35:do=01;35:bd=40;33;01:cd=40;33;01:or=40;31;01:mi=00:su=37;41:sg=30;43:ca=30;41:tw=30;42:ow=34;42:st=37;44:ex=01;32:*.tar=01;31:*.tgz=01;31:*.arc=01;31:*.arj=01;31:*.taz=01;31:*.lha=01;31:*.lz4=01;31:*.lzh=01;31:*.lzma=01;31:*.tlz=01;31:*.txz=01;31:*.tzo=01;31:*.t7z=01;31:*.zip=01;31:*.z=01;31:*.dz=01;31:*.gz=01;31:*.lrz=01;31:*.lz=01;31:*.lzo=01;31:*.xz=01;31:*.zst=01;31:*.tzst=01;31:*.bz2=01;31:*.bz=01;31:*.tbz=01;31:*.tbz2=01;31:*.tz=01;31:*.deb=01;31:*.rpm=01;31:*.jar=01;31:*.war=01;31:*.ear=01;31:*.sar=01;31:*.rar=01;31:*.alz=01;31:*.ace=01;31:*.zoo=01;31:*.cpio=01;31:*.7z=01;31:*.rz=01;31:*.cab=01;31:*.wim=01;31:*.swm=01;31:*.dwm=01;31:*.esd=01;31:*.jpg=01;35:*.jpeg=01;35:*.mjpg=01;35:*.mjpeg=01;35:*.gif=01;35:*.bmp=01;35:*.pbm=01;35:*.pgm=01;35:*.ppm=01;35:*.tga=01;35:*.xbm=01;35:*.xpm=01;35:*.tif=01;35:*.tiff=01;35:*.png=01;35:*.svg=01;35:*.svgz=01;35:*.mng=01;35:*.pcx=01;35:*.mov=01;35:*.mpg=01;35:*.mpeg=01;35:*.m2v=01;35:*.mkv=01;35:*.webm=01;35:*.ogm=01;35:*.mp4=01;35:*.m4v=01;35:*.mp4v=01;35:*.vob=01;35:*.qt=01;35:*.nuv=01;35:*.wmv=01;35:*.asf=01;35:*.rm=01;35:*.rmvb=01;35:*.flc=01;35:*.avi=01;35:*.fli=01;35:*.flv=01;35:*.gl=01;35:*.dl=01;35:*.xcf=01;35:*.xwd=01;35:*.yuv=01;35:*.cgm=01;35:*.emf=01;35:*.ogv=01;35:*.ogx=01;35:*.aac=00;36:*.au=00;36:*.flac=00;36:*.m4a=00;36:*.mid=00;36:*.midi=00;36:*.mka=00;36:*.mp3=00;36:*.mpc=00;36:*.ogg=00;36:*.ra=00;36:*.wav=00;36:*.oga=00;36:*.opus=00;36:*.spx=00;36:*.xspf=00;36:\n",
      "WAYLAND_DISPLAY=wayland-0\n",
      "CONDA_PROMPT_MODIFIER=(base) \n",
      "PYDEVD_USE_FRAME_EVAL=NO\n",
      "posts=/home/divya/vscode/APCSA/_posts\n",
      "LESSCLOSE=/usr/bin/lesspipe %s %s\n",
      "VSCODE_HANDLES_SIGPIPE=true\n",
      "TERM=xterm-256color\n",
      "_CE_CONDA=\n",
      "LESSOPEN=| /usr/bin/lesspipe %s\n",
      "USER=divya\n",
      "PYTHONIOENCODING=utf-8\n",
      "notebooks=/home/divya/vscode/APCSA/_notebooks\n",
      "CONDA_SHLVL=1\n",
      "DISPLAY=:0\n",
      "SHLVL=2\n",
      "PAGER=cat\n",
      "project_repo=https://github.com/nighthawkcoders/APCSA.git\n",
      "VSCODE_CWD=/mnt/c/divya\n",
      "CONDA_PYTHON_EXE=/home/divya/anaconda3/bin/python\n",
      "XDG_RUNTIME_DIR=/mnt/wslg/runtime-dir\n",
      "PS1=[PEXP\\[\\]ECT_PROMPT>\n",
      "CONDA_DEFAULT_ENV=base\n",
      "WSLENV=ELECTRON_RUN_AS_NODE/w:\n",
      "VSCODE_WSL_EXT_LOCATION=/mnt/c/Users/prash/.vscode/extensions/ms-vscode-remote.remote-wsl-0.66.3\n",
      "XDG_DATA_DIRS=/usr/local/share:/usr/share:/var/lib/snapd/desktop\n",
      "PATH=/home/divya/.vscode-server/bin/e4503b30fc78200f846c62cf8091b76ff5547662/bin/remote-cli:/home/divya/.local/bin:/home/divya/anaconda3/bin:/home/divya/anaconda3/condabin:/usr/local/sbin:/usr/local/bin:/usr/sbin:/usr/bin:/sbin:/bin:/usr/games:/usr/local/games:/usr/lib/wsl/lib:/mnt/c/WINDOWS/system32:/mnt/c/WINDOWS:/mnt/c/WINDOWS/System32/Wbem:/mnt/c/WINDOWS/System32/WindowsPowerShell/v1.0:/mnt/c/WINDOWS/System32/OpenSSH:/mnt/c/Users/prash/AppData/Local/Microsoft/WindowsApps:/mnt/c/Aadya/bin:/snap/bin\n",
      "VSCODE_NLS_CONFIG={\"locale\":\"en\",\"availableLanguages\":{}}\n",
      "HOSTTYPE=x86_64\n",
      "PULSE_SERVER=/mnt/wslg/PulseServer\n",
      "VSCODE_HANDLES_UNCAUGHT_ERRORS=true\n",
      "OLDPWD=/home/divya/vscode/APCSA/_notebooks\n",
      "VSCODE_IPC_HOOK_CLI=/mnt/wslg/runtime-dir/vscode-ipc-d123d553-5453-4217-b8bb-4bfec6326687.sock\n",
      "_=/usr/bin/env\n"
     ]
    }
   ],
   "source": [
    "echo \"Show the shell environment variables, key on left of equal value on right\"\n",
    "echo \"\"\n",
    "\n",
    "env"
   ]
  },
  {
   "cell_type": "code",
   "execution_count": 8,
   "metadata": {
    "vscode": {
     "languageId": "shellscript"
    }
   },
   "outputs": [
    {
     "name": "stdout",
     "output_type": "stream",
     "text": [
      "\n",
      "show the secrets of .git\n",
      "total 60\n",
      "-rw-r--r-- 1 divya divya    23 Aug 25 23:11 HEAD\n",
      "drwxr-xr-x 2 divya divya  4096 Aug 25 23:11 \u001b[0m\u001b[01;34mbranches\u001b[0m\n",
      "-rw-r--r-- 1 divya divya   269 Aug 25 23:11 config\n",
      "-rw-r--r-- 1 divya divya    73 Aug 25 23:11 description\n",
      "drwxr-xr-x 2 divya divya  4096 Aug 25 23:11 \u001b[01;34mhooks\u001b[0m\n",
      "-rw-r--r-- 1 divya divya 20422 Aug 25 23:11 index\n",
      "drwxr-xr-x 2 divya divya  4096 Aug 25 23:11 \u001b[01;34minfo\u001b[0m\n",
      "drwxr-xr-x 3 divya divya  4096 Aug 25 23:11 \u001b[01;34mlogs\u001b[0m\n",
      "drwxr-xr-x 4 divya divya  4096 Aug 25 23:11 \u001b[01;34mobjects\u001b[0m\n",
      "-rw-r--r-- 1 divya divya   271 Aug 25 23:11 packed-refs\n",
      "drwxr-xr-x 5 divya divya  4096 Aug 25 23:11 \u001b[01;34mrefs\u001b[0m\n",
      "\n",
      "look at config file\n",
      "[core]\n",
      "\trepositoryformatversion = 0\n",
      "\tfilemode = true\n",
      "\tbare = false\n",
      "\tlogallrefupdates = true\n",
      "[remote \"origin\"]\n",
      "\turl = https://github.com/nighthawkcoders/APCSA.git\n",
      "\tfetch = +refs/heads/*:refs/remotes/origin/*\n",
      "[branch \"master\"]\n",
      "\tremote = origin\n",
      "\tmerge = refs/heads/master\n"
     ]
    }
   ],
   "source": [
    "cd $project\n",
    "\n",
    "echo \"\"\n",
    "echo \"show the secrets of .git\"\n",
    "cd .git\n",
    "ls -l\n",
    "\n",
    "echo \"\"\n",
    "echo \"look at config file\"\n",
    "cat config"
   ]
  }
 ],
 "metadata": {
  "kernelspec": {
   "display_name": "Bash",
   "language": "bash",
   "name": "bash"
  },
  "language_info": {
   "codemirror_mode": "shell",
   "file_extension": ".sh",
   "mimetype": "text/x-sh",
   "name": "bash"
  },
  "orig_nbformat": 4
 },
 "nbformat": 4,
 "nbformat_minor": 2
}
