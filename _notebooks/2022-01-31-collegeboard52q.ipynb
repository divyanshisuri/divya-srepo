{
 "cells": [
  {
   "attachments": {},
   "cell_type": "markdown",
   "metadata": {},
   "source": [
    "# College Board 52 Questions\n",
    "\n",
    "- toc: true \n",
    "- badges: true\n",
    "- comments: true\n",
    "- categories: [jupyter]"
   ]
  },
  {
   "attachments": {},
   "cell_type": "markdown",
   "metadata": {},
   "source": [
    "# Corrections & Tricky Questions"
   ]
  },
  {
   "attachments": {},
   "cell_type": "markdown",
   "metadata": {},
   "source": [
    "### Question 15"
   ]
  },
  {
   "attachments": {},
   "cell_type": "markdown",
   "metadata": {},
   "source": [
    "Consider the following method, which is intended to return true if at least one of the three strings s1, s2, or s3 contains the substring \"art\". Otherwise, the method should return false."
   ]
  },
  {
   "attachments": {},
   "cell_type": "markdown",
   "metadata": {},
   "source": [
    "Adding strings (index)"
   ]
  },
  {
   "attachments": {},
   "cell_type": "markdown",
   "metadata": {},
   "source": [
    "```java\n",
    "String all = s1 + s2 + s3;\n",
    "//adding strings, each letter has its own index\n",
    "//checking for \"art\" - will be checking 3 letter as a group at a time, if there is \"art\", then it will return the index of the first letter in the group\n",
    "```"
   ]
  },
  {
   "attachments": {},
   "cell_type": "markdown",
   "metadata": {},
   "source": [
    "```java\n",
    "return(all.indexof(\"art\") != -1);\n",
    "//return true if index is not -1\n",
    "//if there is not \"art\" in the string, the index will be -1, which will return false\n",
    "\n",
    "```"
   ]
  },
  {
   "attachments": {},
   "cell_type": "markdown",
   "metadata": {},
   "source": [
    "If all.indexof(\"art\") != -1 evaulates to true, but \"art\" is from 2 strings, then it is not working as intended because it should only return true if \"art\" is existed within the same string."
   ]
  },
  {
   "attachments": {},
   "cell_type": "markdown",
   "metadata": {},
   "source": [
    "### Question 16"
   ]
  },
  {
   "attachments": {},
   "cell_type": "markdown",
   "metadata": {},
   "source": [
    "Confusing wording (understand what the question is asking)"
   ]
  },
  {
   "attachments": {},
   "cell_type": "markdown",
   "metadata": {},
   "source": [
    "Enhanced for loop"
   ]
  },
  {
   "attachments": {},
   "cell_type": "markdown",
   "metadata": {},
   "source": [
    "```java\n",
    "for(int[] row : col) //the right side should be the name of array, not col\n",
    "\n",
    "for(int[] row : arr)\n",
    "```"
   ]
  },
  {
   "attachments": {},
   "cell_type": "markdown",
   "metadata": {},
   "source": [
    "### Question 24"
   ]
  },
  {
   "attachments": {},
   "cell_type": "markdown",
   "metadata": {},
   "source": [
    "2d array vs array"
   ]
  },
  {
   "attachments": {},
   "cell_type": "markdown",
   "metadata": {},
   "source": [
    "```java\n",
    "for (int row = 0; row <= arr.length; row++)\n",
    "// if it is an array, then it will not work because it should be row < arr.length\n",
    "// but since it is an 2d array, it will create a new element that is all 0s\n",
    "// therefore all of the options would return true\n",
    "```"
   ]
  },
  {
   "attachments": {},
   "cell_type": "markdown",
   "metadata": {},
   "source": [
    "Since all of the answer options would return true becuase they all contain 0, but the one that contains no \"0\" would also evaluates to true when it is supposed to evaluates to false.\n",
    "10, 20, 30... would not count because it is not \"0\" althought it does has 0 inside"
   ]
  },
  {
   "attachments": {},
   "cell_type": "markdown",
   "metadata": {},
   "source": [
    "### Question 25"
   ]
  },
  {
   "attachments": {},
   "cell_type": "markdown",
   "metadata": {},
   "source": [
    "class, constuctor method, mutator method, tester method"
   ]
  },
  {
   "attachments": {},
   "cell_type": "markdown",
   "metadata": {},
   "source": [
    "constructor method - same name as class name, don't need return type (must have constructor in a class)\n",
    "mutator method - need return type\n",
    "tester method - public static void..., no return type, so can use System.out.println to test"
   ]
  },
  {
   "attachments": {},
   "cell_type": "markdown",
   "metadata": {},
   "source": [
    "```java\n",
    "public updateItems(int newNum)\n",
    "\n",
    "{\n",
    "\n",
    "numItems = newNum;\n",
    "\n",
    "}\n",
    "//this is a mutator method\n",
    "//so it needs a return type in front of the name and \"return\" infront of the variable name that we want to return\n",
    "```"
   ]
  },
  {
   "attachments": {},
   "cell_type": "markdown",
   "metadata": {},
   "source": [
    "### Question 27"
   ]
  },
  {
   "attachments": {},
   "cell_type": "markdown",
   "metadata": {},
   "source": [
    "there are 2 j++!!!"
   ]
  },
  {
   "attachments": {},
   "cell_type": "markdown",
   "metadata": {},
   "source": [
    "### Question 28"
   ]
  },
  {
   "attachments": {},
   "cell_type": "markdown",
   "metadata": {},
   "source": [
    "the j++ skips the second \"3\" (low score that we want to remove)"
   ]
  },
  {
   "attachments": {},
   "cell_type": "markdown",
   "metadata": {},
   "source": [
    "### Question 42"
   ]
  },
  {
   "attachments": {},
   "cell_type": "markdown",
   "metadata": {},
   "source": [
    ".substring()\n",
    "\n",
    "```java\n",
    "str = candy;\n",
    "str.substring(1,4); //output: and (not included index 4)\n",
    "\n",
    "\n",
    "```\n"
   ]
  },
  {
   "attachments": {},
   "cell_type": "markdown",
   "metadata": {},
   "source": [
    "### Question 54"
   ]
  },
  {
   "attachments": {},
   "cell_type": "markdown",
   "metadata": {},
   "source": [
    "```java\n",
    "else if (str.substring(0, 1).compareTo(str.substring(1, 2)) > 0) //compareTo(), compare two substrings/letters\n",
    "```"
   ]
  },
  {
   "attachments": {},
   "cell_type": "markdown",
   "metadata": {},
   "source": [
    "The compareTo() method compares two strings lexicographically.\n",
    "\n",
    "\n",
    "The method returns 0 if the string is equal to the other string. A value less than 0 is returned if the string is less than the other string (less characters) and a value greater than 0 if the string is greater than the other string (more characters)."
   ]
  },
  {
   "attachments": {},
   "cell_type": "markdown",
   "metadata": {},
   "source": [
    "### Question 64"
   ]
  },
  {
   "attachments": {},
   "cell_type": "markdown",
   "metadata": {},
   "source": [
    "```java\n",
    "int[] arr = {1, 2, 4, 0, 3};\n",
    "\n",
    "for (int i : arr)\n",
    "\n",
    "{\n",
    "\n",
    "System.out.print(i); //not arr[i] because i is not representing the index in for each loop\n",
    "\n",
    "}\n",
    "```"
   ]
  },
  {
   "attachments": {},
   "cell_type": "markdown",
   "metadata": {},
   "source": [
    "```java\n",
    "int[] arr = {1, 2, 4, 0, 3};\n",
    "\n",
    "for (int i = 0; i < arr.length; i++)\n",
    "\n",
    "{\n",
    "\n",
    "System.out.print(arr[i]); //not i because it would just return the index number\n",
    "\n",
    "}\n",
    "\n",
    "Responses\n",
    "\n",
    "```"
   ]
  },
  {
   "cell_type": "markdown",
   "metadata": {},
   "source": []
  }
 ],
 "metadata": {
  "kernelspec": {
   "display_name": "Java",
   "language": "java",
   "name": "java"
  },
  "language_info": {
   "name": "java",
   "version": "3.10.8 (main, Oct 13 2022, 09:48:40) [Clang 14.0.0 (clang-1400.0.29.102)]"
  },
  "orig_nbformat": 4,
  "vscode": {
   "interpreter": {
    "hash": "b0fa6594d8f4cbf19f97940f81e996739fb7646882a419484c72d19e05852a7e"
   }
  }
 },
 "nbformat": 4,
 "nbformat_minor": 2
}
