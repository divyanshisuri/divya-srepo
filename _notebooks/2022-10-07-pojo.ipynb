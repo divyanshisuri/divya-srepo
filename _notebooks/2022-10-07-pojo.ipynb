{
 "cells": [
  {
   "cell_type": "markdown",
   "metadata": {},
   "source": [
    "# POJO, JPA, API, FE\n",
    "- Write the POJO without using lambok\n",
    "\n",
    "- toc: true \n",
    "- badges: true\n",
    "- comments: true\n",
    "- categories: [jupyter]"
   ]
  },
  {
   "cell_type": "markdown",
   "metadata": {},
   "source": [
    "## Write the POJO with lambok (original)"
   ]
  },
  {
   "cell_type": "markdown",
   "metadata": {},
   "source": [
    "```java\n",
    "\n",
    "import lombok.AllArgsConstructor;\n",
    "import lombok.Data;\n",
    "import lombok.NoArgsConstructor;\n",
    "\n",
    "import javax.persistence.*;\n",
    "\n",
    "@Data  // Annotations to simplify writing code (ie constructors, setters)\n",
    "@NoArgsConstructor\n",
    "@AllArgsConstructor\n",
    "@Entity // Annotation to simplify creating an entity, which is a lightweight persistence domain object. Typically, an entity represents a table in a relational database, and each entity instance corresponds to a row in that table.\n",
    "public class Jokes {\n",
    "    @Id\n",
    "    @GeneratedValue(strategy = GenerationType.AUTO)\n",
    "    private Long id;  // Unique identifier\n",
    "\n",
    "    @Column(unique=true)\n",
    "    private String joke;  // The Joke\n",
    "\n",
    "    private int haha;  // Store joke likes\n",
    "    private int boohoo;  // Store joke jeers\n",
    "}\n",
    "```"
   ]
  },
  {
   "cell_type": "markdown",
   "metadata": {},
   "source": [
    "- The @GeneratedValue annotation is to configure the way of increment of the specified column(field). \n",
    "- GenerationType.AUTO This GenerationType indicates that the persistence provider should automatically pick an appropriate strategy for the particular database. This is the default GenerationType, i.e. if we just use @GeneratedValue annotation then this value of GenerationType will be used.\n",
    "- The @Id annotation is one of the two mandatory annotations needed when creating an entity with JPA. The other one being @Entity. @Id does two things for us:\n",
    "  - signifies that this field will be the unique identifier for this class when mapped to a database table\n",
    "  - the presence of @Id lets the persistence layer know that all other fields within this class are to be mapped to database rows\n"
   ]
  },
  {
   "cell_type": "markdown",
   "metadata": {},
   "source": [
    "## Writing Setters and Getters (write POJO without lambok)"
   ]
  },
  {
   "cell_type": "markdown",
   "metadata": {},
   "source": [
    "```java\n",
    "import lombok.AllArgsConstructor;\n",
    "import lombok.Data;\n",
    "import lombok.NoArgsConstructor;\n",
    "\n",
    "import javax.persistence.*;\n",
    "\n",
    "@Data  // Annotations to simplify writing code (ie constructors, setters)\n",
    "@NoArgsConstructor\n",
    "@AllArgsConstructor\n",
    "@Entity // Annotation to simplify creating an entity, which is a lightweight persistence domain object. Typically, an entity represents a table in a relational database, and each entity instance corresponds to a row in that table.\n",
    "public class Jokes {\n",
    "    //@Id    @GeneratedValue(strategy = GenerationType.AUTO) private Long id;  // Unique identifier\n",
    "\n",
    "    private Long id;\n",
    "\n",
    "    public Long getId() {\n",
    "        return id;\n",
    "    }\n",
    "\n",
    "    public void setId(Long id) {\n",
    "        this.id = id;\n",
    "    }\n",
    "\n",
    "    //@Column(unique=true) private String joke;  // The Joke\n",
    "\n",
    "    private String joke;\n",
    "\n",
    "    public String getJoke() {\n",
    "        return joke;\n",
    "    }\n",
    "\n",
    "    public void setJoke(String id) {\n",
    "        this.joke = joke;\n",
    "    }\n",
    "\n",
    "\n",
    "    // private int haha;  // Store joke likes\n",
    "\n",
    "    private int haha;\n",
    "\n",
    "    public int getHaha() {\n",
    "        return haha;\n",
    "    }\n",
    "\n",
    "    public void setHaha(int id) {\n",
    "        this.haha = haha;\n",
    "    }\n",
    " \n",
    "    //private int boohoo;  // Store joke jeers\n",
    "\n",
    "    private int boohoo\n",
    "    \n",
    "     public int getHaha() {\n",
    "        return haha;\n",
    "    }\n",
    "\n",
    "    public void setHaha(int id) {\n",
    "        this.haha = haha;\n",
    "    }\n",
    "}\n",
    "```"
   ]
  }
 ],
 "metadata": {
  "kernelspec": {
   "display_name": "Java",
   "language": "java",
   "name": "java"
  },
  "language_info": {
   "codemirror_mode": "java",
   "file_extension": ".jshell",
   "mimetype": "text/x-java-source",
   "name": "java",
   "pygments_lexer": "java",
   "version": "17.0.4+8"
  },
  "orig_nbformat": 4
 },
 "nbformat": 4,
 "nbformat_minor": 2
}
