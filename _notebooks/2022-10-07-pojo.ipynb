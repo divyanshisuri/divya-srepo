{
 "cells": [
  {
   "cell_type": "markdown",
   "metadata": {},
   "source": [
    "# List and ArrayLists\n",
    "\n",
    "- toc: true \n",
    "- badges: true\n",
    "- comments: true\n",
    "- categories: [jupyter]\n",
    "\n"
   ]
  },
  {
   "cell_type": "markdown",
   "metadata": {},
   "source": [
    "\n",
    "- List is an interface, and the instances of List can be created by implementing various classes.\n",
    "- ArrayList class is used to create a dynamic array that contains objects."
   ]
  },
  {
   "cell_type": "markdown",
   "metadata": {},
   "source": [
    "## Travel Places Example\n",
    "- place.add\n",
    "- place.remove\n",
    "- place.get()\n",
    "- place.size()\n",
    "- place.set()"
   ]
  },
  {
   "cell_type": "code",
   "execution_count": 166,
   "metadata": {
    "vscode": {
     "languageId": "java"
    }
   },
   "outputs": [
    {
     "name": "stdout",
     "output_type": "stream",
     "text": [
      "a list of places to travel: [New York, Hawii, Los Angeles, Korea]\n",
      "a lists of places to travel after traveled to Hawii: [New York, Los Angeles, Korea]\n",
      "where do you want to travel to next? Los Angeles\n",
      "numbers of places that you are going to travel to: 3\n",
      "changing Los Angeles to Japan: [New York, Japan, Korea]\n"
     ]
    }
   ],
   "source": [
    "// Main class\n",
    "public class places {\n",
    "   \n",
    "    // Main driver method\n",
    "    public static void main()\n",
    "    {\n",
    "        // Creating an object of List class\n",
    "          // Declaring an object of String type with\n",
    "        // reference to ArrayList class\n",
    "        // Type safe list \n",
    "        ArrayList<String> place = new ArrayList<String>(); //place - object, <String> - type\n",
    "       \n",
    "        // Adding elements using add() method\n",
    "        // Custom input elements\n",
    "        place.add(\"New York\");\n",
    "        place.add(\"Hawii\");\n",
    "        place.add(\"Los Angeles\");\n",
    "        place.add(\"Korea\");\n",
    " \n",
    "        // Print and display the elements in\n",
    "        // ArrayList class object \n",
    "        System.out.println(\"a list of places to travel: \" + place);\n",
    "\n",
    "        //remove element of index 1\n",
    "        place.remove(1); \n",
    "        System.out.println(\"a lists of places to travel after traveled to Hawii: \" + place);\n",
    "\n",
    "        //print index 1 of the arraylist with Hawii removed\n",
    "        System.out.println(\"where do you want to travel to next? \" + place.get(1)); //new index 1 is Los Angeles\n",
    "\n",
    "        //print the size of the arraylist \n",
    "        System.out.println(\"numbers of places that you are going to travel to: \" + place.size()); \n",
    "\n",
    "        //change index 1 to Japan\n",
    "        place.set(1, \"Japan\");\n",
    "        System.out.println(\"changing Los Angeles to Japan: \" + place);\n",
    "\n",
    "    }\n",
    "}\n",
    "\n",
    "places.main();"
   ]
  },
  {
   "cell_type": "markdown",
   "metadata": {},
   "source": [
   ]
  },
  {
   "cell_type": "markdown",
   "metadata": {},
   "source": [
   ]
  },
  {
   "cell_type": "code",
   "execution_count": 167,
   "metadata": {
    "vscode": {
     "languageId": "java"
    }
   },
   "outputs": [],
   "source": [
   ]
  },
  {
   "cell_type": "markdown",
   "metadata": {},
   "source": [
   ]
  },
  {
   "cell_type": "markdown",
   "metadata": {},
   "source": [
   ]
  },
  {
   "cell_type": "markdown",
   "metadata": {},
   "source": [
   ]
  },
  {
   "cell_type": "markdown",
   "metadata": {},
   "source": [
   ]
  },
  {
   "cell_type": "markdown",
   "metadata": {},
   "source": [
   ]
  },
  {
   "cell_type": "markdown",
   "metadata": {},
   "source": [
   ]
  },
  {
   "cell_type": "markdown",
   "metadata": {},
   "source": [
    "#### Two ArrayLists (< String > < Integer >)"
   ]
  },
  {
   "cell_type": "code",
   "execution_count": 168,
   "metadata": {
    "vscode": {
     "languageId": "java"
    }
   },
   "outputs": [
    {
     "name": "stdout",
     "output_type": "stream",
     "text": [
      "a list of places to travel: [New York, Hawii, Los Angeles, Korea]\n",
      "how many possible days do you want to travel for: [30, 14, 3]\n",
      "how many days you plan to stay in Korea for: 14\n"
     ]
    }
   ],
   "source": [
    "\n",
    "import java.util.*;\n",
    "\n",
    "public class places<T> {\n",
    "\n",
    "    public static void main()\n",
    "    {\n",
    "        // arraylist <String>\n",
    "        ArrayList<String> place = new ArrayList<String>(); //place - object, <String> - type\n",
    "       \n",
    "        place.add(\"New York\");\n",
    "        place.add(\"Hawii\");\n",
    "        place.add(\"Los Angeles\");\n",
    "        place.add(\"Korea\");\n",
    " \n",
    "        System.out.println(\"a list of places to travel: \" + place);\n",
    "\n",
    "        \n",
    "        // new arraylist <Integer>\n",
    "        ArrayList<Integer> placeNumber = new ArrayList<Integer>();\n",
    "\n",
    "        placeNumber.add(30);\n",
    "        placeNumber.add(14);\n",
    "        placeNumber.add(3);\n",
    "\n",
    "        System.out.println(\"how many possible days do you want to travel for: \" + placeNumber);\n",
    "        System.out.println(\"how many days you plan to stay in Korea for: \" + placeNumber.get(1));\n",
    "\n",
    "\n",
    "    }\n",
    "}\n",
    "\n",
    "places.main();"
   ]
  },
  {
   "cell_type": "markdown",
   "metadata": {},
   "source": [
   ]
  }
 ],
 "metadata": {
  "kernelspec": {
   "display_name": "Java",
   "language": "java",
   "name": "java"
  },
  "language_info": {
   "codemirror_mode": "java",
   "file_extension": ".jshell",
   "mimetype": "text/x-java-source",
   "name": "Java",
   "pygments_lexer": "java",
   "version": "17.0.4+8"
  },
  "orig_nbformat": 4
 },
 "nbformat": 4,
 "nbformat_minor": 2
}
