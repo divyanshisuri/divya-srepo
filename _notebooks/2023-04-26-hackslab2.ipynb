{
 "cells": [
  {
   "attachments": {},
   "cell_type": "markdown",
   "metadata": {},
   "source": [
    "# Hacks - MacroMonkeys"
   ]
  }, 
  {
   "cell_type": "code",
   "execution_count": 2,
   "metadata": {
    "vscode": {
     "languageId": "java"
    }
   },
   "outputs": [
    {
     "name": "stdout",
     "output_type": "stream",
     "text": [
      "10\n",
      "10\n",
      "10\n",
      "10\n",
      "10\n",
      "10\n",
      "10\n",
      "10\n",
      "10\n",
      "10\n"
     ]
    }
   ],
   "source": [
    "//Hack #1: Create method that sets all elements in array to n\n",
    "void setArray(int[] arr, int n) {\n",
    "    for (int i = 0; i < arr.length; i++) {\n",
    "        arr[i] = n;\n",
    "    }\n",
    "}\n",
    "\n",
    "int[] array = new int[10];\n",
    "setArray(array, 10);\n",
    "\n",
    "for (int i = 0; i<array.length; i++) {\n",
    "    System.out.println(array[i]);\n",
    "}\n",
    "\n",
    " "
   ]
  },
  {
   "cell_type": "code",
   "execution_count": 6,
   "metadata": {
    "vscode": {
     "languageId": "java"
    }
   },
   "outputs": [
    {
     "name": "stdout",
     "output_type": "stream",
     "text": [
      "5\n"
     ]
    }
   ],
   "source": [
    "//Hack #2: Write an array to find the average of an array\n",
    "\n",
    "public static int average(int[] array) {\n",
    "    int sum = 0;\n",
    "    for (int i = 0; i < array.length; i++) {\n",
    "        sum += array[i];\n",
    "    } ",
    "    return sum / array.length;\n",
    "}\n",
    "\n",
    "//tester array\n",
    "int[] test = {3, 5, 7, 2, 10};\n",
    "\n",
    "\n",
    "System.out.println(average(test));"
   ]
  },
  {
   "cell_type": "code",
   "execution_count": 7,
   "metadata": {
    "vscode": {
     "languageId": "java"
    }
   },
   "outputs": [],
   "source": [
    "public static void main(String[] args){\n",
    "    int[][] arrayOne = new int[5][7];\n",
    "    for (int row = 0; row < arrayOne.length; row++){\n",
    "        for (int col = 0; col < arrayOne[row].length; col++){\n",
    "            arrayOne[row][col] = row+col - 1;\n",
    "        }\n",
    "    }\n",
    "\n",
    "    System.out.println(arrayOne[4][6]);\n",
    "}"
   ]
  },
  {
   "cell_type": "code",
   "execution_count": 9,
   "metadata": {
    "vscode": {
     "languageId": "java"
    }
   },
   "outputs": [
    {
     "name": "stdout",
     "output_type": "stream",
     "text": [
      "8.6\n"
     ]
    }
   ],
   "source": [
    "public static double averageDiagonal (int[][] array2D) {\n",
    "    // your code here\n",
    "    int sum = 0;\n",
    "    int count = 0;\n",
    "    int row = 0;\n",
    "    int col = 0;\n",
    "    \n",
    "    \n",
    "    while (row < array2D.length && col < array2D[0].length) {\n",
    "        sum += array2D[row][col];\n",
    "        count++;\n",
    "        row++;\n",
    "        col++;\n",
    "    }\n",
    "    \n",
    "    \n",
    "    return (double) sum / count;\n",
    "}\n",
    "\n",
    "int[][] arr = {\n",
    "    {50,60,70,80,90,100},\n",
    "    {110,120,130,140,150,160},\n",
    "    {170,180,190,200,210,220},\n",
    "    {230,240,250,260,270,280},\n",
    "    {290,300,310,320,330,340}\n",
    "    //populating an arr\n",
    "};\n",
    "\n",
    "System.out.println(averageDiagonal(arr));"
   ]
  }
 ],
 "metadata": {
  "kernelspec": {
   "display_name": "Java",
   "language": "java",
   "name": "java"
  },
  "language_info": {
   "codemirror_mode": "java",
   "file_extension": ".jshell",
   "mimetype": "text/x-java-source",
   "name": "Java",
   "pygments_lexer": "java",
   "version": "17.0.5+8-Ubuntu-2ubuntu122.04"
  },
  "orig_nbformat": 4
 },
 "nbformat": 4,
 "nbformat_minor": 2
}
