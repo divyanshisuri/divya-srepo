{
 "cells": [
  {
   "cell_type": "markdown",
   "metadata": {},
   "source": [
    "# Unit 9 Inheritance\n",
    "- toc: true \n",
    "- badges: true\n",
    "- comments: true\n",
    "- categories: [jupyter]"
   ]
  },
  {
   "cell_type": "markdown",
   "metadata": {},
   "source": [
    "If same attributes - use extends (inherit the attributes and methods of the base class) - avoid having lots of repeated code \n"
   ]
  },
  {
   "cell_type": "markdown",
   "metadata": {},
   "source": [
    "protected - can't be affect by outside modifiers"
   ]
  },
  {
   "cell_type": "markdown",
   "metadata": {},
   "source": [
    "The Java main method is usually the first method you learn about when you start programming in Java because its the entry point for executing a Java program. The main method can contain code to execute or call other methods, and it can be placed in any class that’s part of a program"
   ]
  },
  {
   "cell_type": "markdown",
   "metadata": {},
   "source": [
    "A constructor is what initializes the values of the attributes of a class when a new object of the class is created\n",
    "\n",
    "for subclass?\n",
    "(same attributes) just use the constructor for the super class"
   ]
  },
  {
   "cell_type": "markdown",
   "metadata": {},
   "source": [
    "## Hack 1\n",
    "In your own notebook, make any class with 2 attributes and 0 methods. Create a 2 argument constructor for that class. This will be your superclass. Now, create a subclass that extends from the superclass you made. Create 1 additional attribute in your subclass that was not present in the superclass.\n",
    "\n",
    "Then, create a constructor for the subclass that uses the superclass constructor with the super keyword, and then adds an additional assignment for the third attribute."
   ]
  },
  {
   "cell_type": "code",
   "execution_count": 23,
   "metadata": {
    "vscode": {
     "languageId": "java"
    }
   },
   "outputs": [
    {
     "name": "stdout",
     "output_type": "stream",
     "text": [
      "Dancing...\n",
      "Singing in Korean... Good boy gone bad...\n",
      "Rapping...\n",
      "Lonely Boy\n",
      "Rapping...\n",
      "Puma\n"
     ]
    }
   ],
   "source": [
    "public class Artist {\n",
    "    protected String name;\n",
    "    protected double age;\n",
    "    \n",
    "    // Constructor for the attributes present in the superclass\n",
    "    public Artist(String name, double age) {\n",
    "        this.name = name;\n",
    "        this.age = age;\n",
    "    }\n",
    "    \n",
    "    public void sing () {\n",
    "        System.out.println(\"Singing...\");\n",
    "    }\n",
    "    \n",
    "    public void dance () {\n",
    "        System.out.println(\"Dancing...\");\n",
    "    }\n",
    "    \n",
    "    public void rap () {\n",
    "        System.out.println(\"Rapping...\");\n",
    "    }\n",
    "    \n",
    "}\n",
    "public class KpopArtist extends Artist {\n",
    "    // Additional attribute not present in the superclass\n",
    "    protected String rapName; \n",
    "    \n",
    "    // Constructor for Subclass\n",
    "    public KpopArtist(String name, double age, String rapName) {\n",
    "        // use the Superclass constructor for the shared attributes through the keyword \"super\"\n",
    "        super(name, age);\n",
    "        //not in Superclass, add this separately in the constructor\n",
    "        this.rapName = rapName;\n",
    "    }\n",
    "    \n",
    "    // We use override to change the functionality in the subclass of an existing method in the superclass\n",
    "    @Override\n",
    "    public void sing () {\n",
    "        System.out.println(\"Singing in Korean... Good boy gone bad...\");\n",
    "    }\n",
    "    \n",
    "    // take all of the functionality of the superclass method, and then add on to it\n",
    "    public void rap () {\n",
    "        super.rap();\n",
    "        System.out.println(rapName);\n",
    "    }\n",
    "    \n",
    "    public static void main(String[] args) {\n",
    "        // 5 argument constructor\n",
    "        KpopArtist yeonjun = new KpopArtist(\"Yeonjun\", 23, \"Lonely Boy\"); \n",
    "        // Example of late binding\n",
    "        Artist artist = new KpopArtist(\"Yeonjun\", 23, \"Puma\");\n",
    "        // can still use the methods from the child class, even though we didn't mention them in the subclass!\n",
    "        yeonjun.dance();\n",
    "        // Using the overridden method\n",
    "        yeonjun.sing();\n",
    "        // Using the method we added on to\n",
    "        yeonjun.rap();\n",
    "        artist.rap();\n",
    "    }\n",
    "    \n",
    "    \n",
    "}\n",
    "KpopArtist.main(null);"
   ]
  },
  {
   "cell_type": "markdown",
   "metadata": {},
   "source": [
    "---"
   ]
  },
  {
   "cell_type": "markdown",
   "metadata": {},
   "source": [
    "When a method in a subclass has the same name, same parameters or signature, and same return type (or sub-type) as a method in its super-class, then the method in the subclass will override the method in the super-class."
   ]
  },
  {
   "cell_type": "markdown",
   "metadata": {},
   "source": [
    "## Hack 2\n",
    "Add a method to the superclass you created before. This method should be very general; it should only have functionality that you know for sure will be needed in almost every single subclass. In your subclass, override this method. Remember that overriding the method will give your subclass the specific functionality it needs from that method.\n",
    "\n"
   ]
  },
  {
   "cell_type": "code",
   "execution_count": 24,
   "metadata": {
    "vscode": {
     "languageId": "java"
    }
   },
   "outputs": [
    {
     "ename": "CompilationException",
     "evalue": "",
     "output_type": "error",
     "traceback": [
      "\u001b[1m\u001b[30m|   \u001b[1m\u001b[30m    \u001b[0m\u001b[1m\u001b[30m\u001b[41m@Override\u001b[0m\u001b[1m\u001b[30m\u001b[0m",
      "\u001b[1m\u001b[31mstatic methods cannot be annotated with @Override\u001b[0m",
      ""
     ]
    }
   ],
   "source": [
    "//existing method in superclass\n",
    "    \n",
    "    public void sing () {\n",
    "        System.out.println(\"Singing...\");\n",
    "    }\n",
    "    \n",
    "    public void dance () {\n",
    "        System.out.println(\"Dancing...\");\n",
    "    }\n",
    "    \n",
    "    public void rap () {\n",
    "        System.out.println(\"Rapping...\");\n",
    "    }\n",
    "    \n",
    "// We use override to change the functionality in the subclass of an existing method in the superclass\n",
    "    @Override\n",
    "    public void sing () {\n",
    "        System.out.println(\"Singing in Korean... Good boy gone bad...\"); //title of song of their album\n",
    "    }\n"
   ]
  },
  {
   "cell_type": "markdown",
   "metadata": {},
   "source": [
    "---"
   ]
  },
  {
   "cell_type": "markdown",
   "metadata": {},
   "source": [
    "super keyword - to use constructors and methods in the superclass in a child class"
   ]
  },
  {
   "cell_type": "markdown",
   "metadata": {},
   "source": [
    "Polymorphism means \"many forms\". It means that we do one thing in many ways through inheritance."
   ]
  },
  {
   "cell_type": "markdown",
   "metadata": {},
   "source": [
    "Early binding has to do with when the compiler decides the method to be called. Relate this to Static Polymorphism or method overloading. \n",
    "\n",
    "Late binding has to do with when the method is decided at runtime. Relate this to Runtime Polymorphism or method overriding."
   ]
  },
  {
   "cell_type": "markdown",
   "metadata": {},
   "source": [
    "## Hack 3\n",
    "Create another subclass from your original superclass. Now, implement method overloading in this subclass. Remember that this means having two methods with the same name, but with different arguments. The method you are using for method overloading doesn't have to exist in the superclass. This will implement Static Polymorphism.\n",
    "\n",
    "Next, override the method in your superclass in your new subclass. Make sure it has different functionality than your method in the other subclass. This will implement Runtime Polymorphism."
   ]
  },
  {
   "cell_type": "code",
   "execution_count": null,
   "metadata": {
    "vscode": {
     "languageId": "java"
    }
   },
   "outputs": [
    {
     "name": "stdout",
     "output_type": "stream",
     "text": [
      "Singing in Chinese... there's a hundred ways...\n",
      "Composing melody? true\n",
      "Composing melody? true Writing lyrics? true\n"
     ]
    }
   ],
   "source": [
    "public class CpopArtist extends Artist {\n",
    "    \n",
    "    public CpopArtist (String name, double age) {\n",
    "        super(name, age);\n",
    "    }\n",
    "    \n",
    "    @Override\n",
    "    public void sing () {\n",
    "        System.out.println(\"Singing in Chinese... there's a hundred ways...\");\n",
    "    }\n",
    "    \n",
    "    public void compose (boolean a) {  // input a boolean value instead of int\n",
    "        System.out.println(\"Composing melody? \" + a);\n",
    "    }\n",
    "    \n",
    "    public void compose (boolean a, boolean b) {\n",
    "        System.out.println(\"Composing melody? \" + a + \" Writing lyrics? \" + b);\n",
    "    }\n",
    "    \n",
    "        \n",
    "    public static void main(String[] args) {\n",
    "        // 4 superclass argument constructor\n",
    "        CpopArtist jackson = new CpopArtist(\"Jackson Wang\", 28);\n",
    "        // Using the overridden method\n",
    "        jackson.sing();\n",
    "        // Using the overloaded method\n",
    "        jackson.compose(true);\n",
    "        jackson.compose(true, true);\n",
    "\n",
    "    }\n",
    "}\n",
    "CpopArtist.main(null);"
   ]
  }
 ],
 "metadata": {
  "kernelspec": {
   "display_name": "Java",
   "language": "java",
   "name": "java"
  },
  "language_info": {
   "codemirror_mode": "java",
   "file_extension": ".jshell",
   "mimetype": "text/x-java-source",
   "name": "Java",
   "pygments_lexer": "java",
   "version": "17.0.5+0"
  },
  "orig_nbformat": 4
 },
 "nbformat": 4,
 "nbformat_minor": 2
}
