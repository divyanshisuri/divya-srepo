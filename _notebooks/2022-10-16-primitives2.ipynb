{
 "cells": [
  {
   "cell_type": "markdown",
   "metadata": {},
   "source": [
    "# Primitives\n",
    "\n",
    "- toc: true \n",
    "- badges: true\n",
    "- comments: true\n",
    "- categories: [jupyter]\n"
   ]
  },
  {
   "cell_type": "markdown",
   "metadata": {},
   "source": [
    "## Primitve Types on CSA Exam\n",
    "- int - which store integers (numbers like 3, -76, 20393)\n",
    "- double - which store floating point numbers (decimal numbers like 6.3 -0.9, and 60293.93032)\n",
    "- boolean - which store Boolean values (either true or false)."
   ]
  },
  {
   "cell_type": "markdown",
   "metadata": {},
   "source": [
    "## Declaring Variables in Java\n",
    "- To create(declare) a variable, you must tell Java its data type and its name. \n",
    "  - have to tell Java the type of the variable because Java needs to know how many bits to use and how to represent the value\n",
    "  - integer - 32 bits of memory\n",
    "  - double - 64 bits\n",
    "  - boolean - one bit"
   ]
  },
  {
   "cell_type": "markdown",
   "metadata": {},
   "source": [
    "Example: \n",
    "int score;\n",
    "score = 4;\n",
    "\n",
    "(initialize)\n",
    "int score = 4;\n"
   ]
  },
  {
   "cell_type": "markdown",
   "metadata": {},
   "source": [
    "## Assignment Statements\n",
    "- Assignment statements initialize or change the value stored in a variable using the assignment operator =. \n",
    "- Instead of saying equals for the = in an assignment statement, say “gets” or “is assigned” to remember that the variable gets or is assigned the value on the right. \n",
    "- Example: score = (10 * points) + 5\n",
    " - score - variable\n",
    " - = is assigned to \n",
    " - (10 * points) + 5 - expression"
   ]
  },
  {
   "cell_type": "markdown",
   "metadata": {},
   "source": [
    "## Operators\n",
    "- Java uses the operator == to test if the value on the left is equal to the value on the right and != to test if two items are not equal. \n",
    "- Use == and != only with int values and not doubles because double values are an approximation and 3.3333 will not equal 3.3334 even though they are very close.\n",
    "- Don’t get one equal sign = confused with two equal signs ==. \n",
    "  - = - assign a value to a variable \n",
    "  - == - test a variable to see if it is a certain value and that returns true or false as you’ll see below\n",
    "\n",
    "- An arithmetic operation that uses two int values will evaluate to an int value. With integer division, any decimal part in the result will be thrown away.\n",
    "- An arithmetic operation that uses at least one double value will evaluate to a double value.\n",
    "- During evaluation, operands are associated with operators according to operator precedence to determine how they are grouped. (*, /, % have precedence over + and -, unless parentheses are used to group those.)"
   ]
  },
  {
   "cell_type": "markdown",
   "metadata": {},
   "source": [
    "## Compound Assignment Operators\n",
    "- Compound assignment operators are shortcuts that do a math operation and assignment in one step\n",
    "- The most common shortcut operator ++, the plus-plus or increment operator, is used to add 1 to the current value; x++ is the same as x += 1 and the same as x = x + 1"
   ]
  },
  {
   "cell_type": "markdown",
   "metadata": {},
   "source": [
    "## Casting and Ranges of Variables\n",
    "- type casting is used to convert variable values from one type to another\n",
    "- Situation to use casting: If you have integers and you want a double result from some mathematical operation cast one of the integers to a double using (double) as shown above.\n",
    "\n",
    "\n",
    "int nearestInt = (int)(number + 0.5);\n",
    "\n",
    "int nearestNegInt = (int)(negNumber – 0.5);"
   ]
  },
  {
   "cell_type": "markdown",
   "metadata": {},
   "source": [
    "## Common Mistakes\n",
    "- forgetting that Java is case sensitive - myScore is not the same as myscore.\n",
    "- forgetting to specify the type when declaring a variable (using name = value; instead of type name = value;)\n",
    "- using a variable name, but never declaring the variable.\n",
    "- using the wrong name for the variable. For example calling it studentTotal when you declare it, but later calling it total.\n",
    "- using the wrong type for a variable. Don’t forget that using integer types in calculations will give an integer result. So either cast one integer value to double or use a double variable if you want the fractional part (the part after the decimal point).\n",
    "- using == to compare double values. Remember that double values are often an approximation. You might want to test if the absolute value of the difference between the two values is less than some amount instead.\n",
    "- assuming that some value like 0 will be smaller than other int values. Remember that int values can be negative as well. If you want to set a value to the smallest possible int values use Integer.MIN_VALUE."
   ]
  }
 ],
 "metadata": {
  "kernelspec": {
   "display_name": "Java",
   "language": "java",
   "name": "java"
  },
  "language_info": {
   "name": "java",
   "version": "3.10.6"
  },
  "orig_nbformat": 4,
  "vscode": {
   "interpreter": {
    "hash": "b0fa6594d8f4cbf19f97940f81e996739fb7646882a419484c72d19e05852a7e"
   }
  }
 },
 "nbformat": 4,
 "nbformat_minor": 2
}
