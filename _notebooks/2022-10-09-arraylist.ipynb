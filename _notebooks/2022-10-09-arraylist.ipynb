{
 "cells": [
  {
   "cell_type": "markdown",
   "metadata": {},
   "source": [
    "# List and ArrayLists"
   ]
  },
  {
   "cell_type": "markdown",
   "metadata": {},
   "source": [
   ]
  },
  {
   "cell_type": "code",
   "execution_count": 19,
   "metadata": {
    "vscode": {
     "languageId": "java"
    }
   },
   "outputs": [
    {
     "name": "stdout",
     "output_type": "stream",
     "text": [
      "[California, New York, Boston, Washington]\n",
      "[California, New York, Boston]\n",
      "Seattle\n",
      "3\n",
      "India\n"
     ]
    }
   ],
   "source": [
    "// Importing all utility classes \n",
    "import java.util.*;\n",
    " \n",
    "// Main class\n",
    "public class places {\n",
    "   \n",
    "    // Main driver method\n",
    "    public static void main()\n",
    "    {\n",
    "        // Creating an object of List class\n",
    "          // Declaring an object of String type with\n",
    "        // reference to ArrayList class\n",
    "        // Type safe list \n",
    "        List<String> place = new ArrayList<String>(); //place - object, <String> - type\n",
    "       \n",
    "        // Adding elements using add() method\n",
    "        // Custom input elements\n",
    "        place.add(\"California\");\n",
    "        place.add(\"New York\");\n",
    "        place.add(\"Boston\");\n",
    "        place.add(\"Washington\");\n",
    " \n",
    "        // Print and display the elements in\n",
    "        // ArrayList class object \n",
    "        System.out.println(place);\n",
    "\n",
    "        //remove element of index 1\n",
    "        place.remove(1); \n",
    "        System.out.println(place);\n",
    "\n",
    "        //print index 1 of the arraylist with California removed\n",
    "        System.out.println(place.get(1)); //new index 1 is Seattle\n",
    "\n",
    "        //print the size of the arraylist \n",
    "        System.out.println(place.size()); \n",
    "\n",
    "        //change index 1 to Japan\n",
    "        place.set(1, \"India\");\n",
    "        System.out.println(place.get(1));\n",
    "\n",
    "    }\n",
    "}\n",
    "\n",
    "places.main();"
   ]
  },
  {
   "cell_type": "markdown",
   "metadata": {},
   "source": [
   ]
  },
  {
   "cell_type": "markdown",
   "metadata": {},
   "source": [
    "helpful videos to help with understanding\n",
    "  - array vs arraylist: https://www.youtube.com/watch?v=NbYgm0r7u6o"
   ]
  }
 ],
 "metadata": {
  "kernelspec": {
   "display_name": "Java",
   "language": "java",
   "name": "java"
  },
  "language_info": {
   "codemirror_mode": "java",
   "file_extension": ".jshell",
   "mimetype": "text/x-java-source",
   "name": "Java",
   "pygments_lexer": "java",
   "version": "17.0.4+8"
  },
  "orig_nbformat": 4
 },
 "nbformat": 4,
 "nbformat_minor": 2
}
