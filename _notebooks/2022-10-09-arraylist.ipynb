{
 "cells": [
  {
   "cell_type": "markdown",
   "metadata": {},
   "source": [
    "# List and ArrayLists"
   ]
  },
  {
   "cell_type": "markdown",
   "metadata": {},
   "source": [
    "- List is an interface, and the instances of List can be created by implementing various classes.\n",
    "- ArrayList class is used to create a dynamic array that contains objects."
   ]
  },
  {
   "cell_type": "code",
   "execution_count": 19,
   "metadata": {
    "vscode": {
     "languageId": "java"
    }
   },
   "outputs": [
    {
     "name": "stdout",
     "output_type": "stream",
     "text": [
      "[New York, Hawii, Los Angeles, Korea]\n",
      "[New York, Los Angeles, Korea]\n",
      "Los Angeles\n",
      "3\n",
      "Japan\n"
     ]
    }
   ],
   "source": [
    "// Importing all utility classes \n",
    "import java.util.*;\n",
    " \n",
    "// Main class\n",
    "public class places {\n",
    "   \n",
    "    // Main driver method\n",
    "    public static void main()\n",
    "    {\n",
    "        // Creating an object of List class\n",
    "          // Declaring an object of String type with\n",
    "        // reference to ArrayList class\n",
    "        // Type safe list \n",
    "        List<String> place = new ArrayList<String>(); //place - object, <String> - type\n",
    "       \n",
    "        // Adding elements using add() method\n",
    "        // Custom input elements\n",
    "        place.add(\"New York\");\n",
    "        place.add(\"Hawii\");\n",
    "        place.add(\"Los Angeles\");\n",
    "        place.add(\"Korea\");\n",
    " \n",
    "        // Print and display the elements in\n",
    "        // ArrayList class object \n",
    "        System.out.println(place);\n",
    "\n",
    "        //remove element of index 1\n",
    "        place.remove(1); \n",
    "        System.out.println(place);\n",
    "\n",
    "        //print index 1 of the arraylist with Hawii removed\n",
    "        System.out.println(place.get(1)); //new index 1 is Los Angeles\n",
    "\n",
    "        //print the size of the arraylist \n",
    "        System.out.println(place.size()); \n",
    "\n",
    "        //change index 1 to Japan\n",
    "        place.set(1, \"Japan\");\n",
    "        System.out.println(place.get(1));\n",
    "\n",
    "    }\n",
    "}\n",
    "\n",
    "places.main();"
   ]
  },
  {
   "cell_type": "markdown",
   "metadata": {},
   "source": [
    "- ArrayList is basically a part of the collection framework and is present in java.util package.\n",
    "- Java ArrayList allows us to randomly access the list. \n",
    "- ArrayList can not be used for primitive types, like int, char, etc. We need a wrapper class for such cases. \n",
    "  - Interger for int, Long for long, Boolean for boolean, etc.\n",
    "  - Wrapper classes provide a way to use primitive data types (int, boolean, etc..) as objects."
   ]
  },
  {
   "cell_type": "markdown",
   "metadata": {},
   "source": [
    "helpful videos to help with understanding\n",
    "  - array vs arraylist: https://www.youtube.com/watch?v=NbYgm0r7u6o"
   ]
  }
 ],
 "metadata": {
  "kernelspec": {
   "display_name": "Java",
   "language": "java",
   "name": "java"
  },
  "language_info": {
   "codemirror_mode": "java",
   "file_extension": ".jshell",
   "mimetype": "text/x-java-source",
   "name": "Java",
   "pygments_lexer": "java",
   "version": "17.0.4+8"
  },
  "orig_nbformat": 4
 },
 "nbformat": 4,
 "nbformat_minor": 2
}
