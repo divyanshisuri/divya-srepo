{
 "cells": [
  {
   "cell_type": "markdown",
   "metadata": {},
   "source": [
    "# FRQ 4 2D Array\n",
    "- toc: true \n",
    "- badges: true\n",
    "- comments: true\n",
    "- categories: [jupyter]"
   ]
  },
  
  {
   "cell_type": "code",
   "execution_count": 5,
   "metadata": {
    "vscode": {
     "languageId": "java"
    }
   },
   "outputs": [
    {
     "ename": "CompilationException",
     "evalue": "",
     "output_type": "error",
     "traceback": [
      "\u001b[1m\u001b[30m|   \u001b[1m\u001b[30mpublic LightBoard(int \u001b[0m\u001b[1m\u001b[30m\u001b[41m\u001b[0m\u001b[1m\u001b[30mnumRows, int numCols) {\u001b[0m",
      "\u001b[1m\u001b[31m'.class' expected\u001b[0m",
      ""
     ]
    }
   ],
   "source": [
    "public LightBoard(int numRows, int numCols) {\n",
    "\n",
    "    lights = new boolean[numRows][numCols];\n",
    "    \n",
    "    for (int r = 0; r < lights.length; r++) {\n",
    "        for(int c = 0; c < lights.[r].length; c++){\n",
    "            if (Math.random() <= .4) {\n",
    "                lights[r][c] = true;\n",
    "            }\n",
    "        }\n",
    "    }\n",
    "}"
   ]
  },
  {
   "cell_type": "markdown",
   "metadata": {},
   "source": [
    "## Part b"
   ]
  },
  {
   "cell_type": "markdown",
   "metadata": {},
   "source": [
    "Write the method evaluateLight, which computes and returns the status of a light at a given row and column based on the following rules."
   ]
  },
  {
   "cell_type": "markdown",
   "metadata": {},
   "source": [
    "need a counter to keep track of on lights in a column"
   ]
  },
  {
   "cell_type": "code",
   "execution_count": null,
   "metadata": {
    "vscode": {
     "languageId": "java"
    }
   },
   "outputs": [],
   "source": [
    "public boolean evaluateLight(int row, int col) {\n",
    "int lightsOn = 0; \n",
    "    for(int r = 0; r < lights.length; r++) {\n",
    "        if (lights[r][col]){    // if this reveal to true - on; not need to do if (lights[r][c] = on)\n",
    "            lightsOn++;\n",
    "        }\n",
    "        if (light[row][col]) {\n",
    "            if (lightsOn % 2 ==0){ \n",
    "                return false;\n",
    "            }\n",
    "            if (lightsOn % 3 ==0) \n",
    "                return true;\n",
    "        }\n",
    "    }\n",
    "    return lights[row][col];\n",
    "}"
   ]
  },
  {
   "cell_type": "markdown",
   "metadata": {},
   "source": [
    "## Ternary Operator"
   ]
  },
  {
   "cell_type": "markdown",
   "metadata": {},
   "source": [
    "![unit9](../images/unit9.png)"
   ]
  },
  {
   "cell_type": "markdown",
   "metadata": {},
   "source": [
    "In FRQ 4 (nested for loops) for print print single character, except at midpoint print color code"
   ]
  },
  {
   "cell_type": "code",
   "execution_count": null,
   "metadata": {
    "vscode": {
     "languageId": "java"
    }
   },
   "outputs": [],
   "source": [
    "String c = (i == (int) (ROWS / 2) && j == (int) (COLS / 2) ) \n",
    "? lights[row][col].getRGB()\n",
    ": (j == (int) (COLS / 2))  // nested ternary\n",
    "? \" \".repeat(lights[row][col].getRGB().length())\n",
    ": \" \";"
   ]
  },
  {
   "cell_type": "markdown",
   "metadata": {},
   "source": [
    "the only conditional operator that takes three operands (condition, expression1, expression2)\n",
    "\n",
    "liner replacement for the if-then-else statement\n"
   ]
  },
  {
   "cell_type": "markdown",
   "metadata": {},
   "source": [
    "Why use Ternary Operator?"
   ]
  },
  {
   "cell_type": "markdown",
   "metadata": {},
   "source": [
    "can use the ternary operator in place of if-else conditions or even switch conditions using nested ternary operators\n",
    "\n",
    "takes less space and helps to write the if-else statements in the shortest way possible"
   ]
  },
  {
   "cell_type": "markdown",
   "metadata": {},
   "source": [
    "![ternaryOperator](../images/ternaryOperator.jpeg)"
   ]
  },
  {
   "cell_type": "markdown",
   "metadata": {},
   "source": [
    "use if-else statements"
   ]
  },
  {
   "cell_type": "code",
   "execution_count": 8,
   "metadata": {
    "vscode": {
     "languageId": "java"
    }
   },
   "outputs": [
    {
     "name": "stdout",
     "output_type": "stream",
     "text": [
      "Positive Number\n"
     ]
    }
   ],
   "source": [
    "class Main {\n",
    "    public static void main(String[] args) {\n",
    "      \n",
    "      // create a variable \n",
    "      int number = 24;\n",
    "  \n",
    "      if(number > 0) {\n",
    "        System.out.println(\"Positive Number\");\n",
    "      }\n",
    "      else {\n",
    "        System.out.println(\"Negative Number\");\n",
    "      }\n",
    "    }\n",
    "  }\n",
    "\n",
    "  Main.main(null);"
   ]
  },
  {
   "cell_type": "markdown",
   "metadata": {},
   "source": [
    "use ternary operator"
   ]
  },
  {
   "cell_type": "code",
   "execution_count": 9,
   "metadata": {
    "vscode": {
     "languageId": "java"
    }
   },
   "outputs": [
    {
     "name": "stdout",
     "output_type": "stream",
     "text": [
      "Positive Number\n"
     ]
    }
   ],
   "source": [
    "class Main {\n",
    "    public static void main(String[] args) {\n",
    "      \n",
    "      // create a variable \n",
    "      int number = 24;\n",
    "  \n",
    "      String result = (number > 0) ? \"Positive Number\" : \"Negative Number\"; //shorter\n",
    "      System.out.println(result);\n",
    "    }\n",
    "  }\n",
    "  \n",
    "  Main.main(null);"
   ]
  },
  {
   "cell_type": "markdown",
   "metadata": {},
   "source": [
    "nested ternary operator"
   ]
  },
  {
   "cell_type": "code",
   "execution_count": 7,
   "metadata": {
    "vscode": {
     "languageId": "java"
    }
   },
   "outputs": [
    {
     "name": "stdout",
     "output_type": "stream",
     "text": [
      "Largest Number: 9\n"
     ]
    }
   ],
   "source": [
    "class Main {\n",
    "    public static void main(String[] args) {\n",
    "      \n",
    "      // create a variable\n",
    "      int n1 = 2, n2 = 9, n3 = -11;\n",
    "  \n",
    "      // nested ternary operator\n",
    "      // to find the largest number\n",
    "      int largest = (n1 >= n2) ? ((n1 >= n3) ? n1 : n3) : ((n2 >= n3) ? n2 : n3);\n",
    "      System.out.println(\"Largest Number: \" + largest);\n",
    "    }\n",
    "  }\n",
    "\n",
    "Main.main(null);"
   ]
  },
  {
   "cell_type": "markdown",
   "metadata": {},
   "source": [
    "(n1 >= n2) - first test condition that checks if n1 is greater than n2"
   ]
  },
  {
   "cell_type": "markdown",
   "metadata": {},
   "source": [
    "(n1 >= n3) - second test condition that is executed if the first condition is true"
   ]
  },
  {
   "cell_type": "markdown",
   "metadata": {},
   "source": [
    "(n2 >= n3) - third test condition that is executed if the first condition is false"
   ]
  },
  {
   "cell_type": "markdown",
   "metadata": {},
   "source": [
    " However, it is not recommended to use nested ternary operators. This is because it makes our code more complex."
   ]
  }
 ],
 "metadata": {
  "kernelspec": {
   "display_name": "Java",
   "language": "java",
   "name": "java"
  },
  "language_info": {
   "codemirror_mode": "java",
   "file_extension": ".jshell",
   "mimetype": "text/x-java-source",
   "name": "Java",
   "pygments_lexer": "java",
   "version": "17.0.5+0"
  },
  "orig_nbformat": 4
 },
 "nbformat": 4,
 "nbformat_minor": 2
}
