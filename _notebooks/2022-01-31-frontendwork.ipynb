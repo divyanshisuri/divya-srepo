{
 "cells": [
  {
   "cell_type": "markdown",
   "metadata": {},
   "source": [
    "# FRQ 4 2D Array\n",
    "- toc: true \n",
    "- badges: true\n",
    "- comments: true\n",
    "- categories: [jupyter]"
   ]
  },
  {
   "cell_type": "markdown",
   "metadata": {},
   "source": [
    "![unit9](../images/unit9.png)"
   ]
  },
   {
   "cell_type": "markdown",
   "metadata": {},
   "source": [
    "![unit9](../images/unit9.png)"
   ]
  },
   {
   "cell_type": "markdown",
   "metadata": {},
   "source": [
    "![unit9](../images/unit9.png)"
   ]
  },
   {
   "cell_type": "markdown",
   "metadata": {},
   "source": [
    "![unit9](../images/unit9.png)"
   ]
 "metadata": {
  "kernelspec": {
   "display_name": "Java",
   "language": "java",
   "name": "java"
  },
  "language_info": {
   "codemirror_mode": "java",
   "file_extension": ".jshell",
   "mimetype": "text/x-java-source",
   "name": "Java",
   "pygments_lexer": "java",
   "version": "17.0.5+0"
  },
  "orig_nbformat": 4
 },
 "nbformat": 4,
 "nbformat_minor": 2
}
