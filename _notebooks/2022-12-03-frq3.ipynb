{
 "cells": [
  {
   "cell_type": "markdown",
   "metadata": {},
   "source": [
    "# FRQ 3\n",
    "- toc: true \n",
    "- badges: true\n",
    "- comments: true\n",
    "- categories: [jupyter]"
   ]
  },
  {
   "cell_type": "code",
   "execution_count": null,
   "metadata": {},
   "outputs": [],
   "source": [
    "import java.util.ArrayList;\n",
    "\n",
    "public class Delimiters {\n",
    "     //  part1   private instances variables          global variables \n",
    "\tprivate String openDel;\n",
    "\tprivate String closeDel;\n",
    "\t\n",
    "\t //   part2    constructors     \n",
    "\tpublic Delimiters(String open, String close)\n",
    "\t{\n",
    "\t\topenDel=open;    \n",
    "\t\tcloseDel=close;\n",
    "\t}\n",
    "\t\t \n",
    "\t //   part3    non-constructor methods     normal methods \n",
    "\tpublic ArrayList<String> getDelimitersList(String[] tokens){\n",
    "\t\t//     ArrayList<DataType> ListName = new ArrayList<DataType>();\n",
    "\t\t         ArrayList<String> delimiters = new ArrayList<String>();  \t\t         \n",
    "\t\t           for(int i=0; i<tokens.length; i++){\n",
    "\t\t        \t     if(tokens[i].equals(openDel) || tokens[i].equals(closeDel)){\n",
    "\t\t        \t    \t  delimiters.add(tokens[i]);\n",
    "\t\t        \t     }\n",
    "\t\t           }\n",
    "\t\t    return delimiters;       \n",
    "\t}\n",
    "\t\n",
    "\tpublic boolean isBalanced(ArrayList<String> delimiters){\n",
    "\t\tint countOpen=0;\n",
    "\t\tint countClose=0; \n",
    "\t\tfor (int i=0; i<delimiters.size(); i++){ \n",
    "\t\t\tif (delimiters.get(i).equals(openDel)){\n",
    "\t\t\t   countOpen++;\n",
    "\t\t\t}\n",
    "\t\t\telse {\n",
    "\t\t\t   countClose++;\n",
    "\t\t\t} \t\t\t\n",
    "\t\t\tif(countClose > countOpen)\n",
    "\t\t\t\treturn false;\n",
    "\t\t}\n",
    "        return countOpen == countClose;\n",
    "    }\n",
    "}"
   ]
  },
  {
   "cell_type": "markdown",
   "metadata": {},
   "source": [
    "## Notes on Difference for Looping through Array, ArrayLists, String"
   ]
  },
  {
   "cell_type": "markdown",
   "metadata": {},
   "source": [
    "String    str\n",
    "for(int i=0; i<str.length(); i++)\n",
    "    str.substring(i,i+1)       // means get every character in String \n",
    " 01234\n",
    "\"Linda\".substring(0,1)      \"Linda\".substring(4)\n",
    ".substring(start , end)     [start, end)     from start to end-1          \n",
    "\n",
    "\n",
    "Array    arr\n",
    "for(int i=0; i<arr.length; i++)\n",
    "     arr[i]             //   means get every element in the arr\n",
    "\n",
    "\n",
    "ArrayList  list \n",
    "for(int i=0; i<list.size(); i++) \n",
    "     list.get(i)          //  means get every item in the ArrayList"
   ]
  }
 ],
 "metadata": {
  "kernelspec": {
   "display_name": "Java",
   "language": "java",
   "name": "java"
  },
  "language_info": {
   "name": "java"
  },
  "orig_nbformat": 4
 },
 "nbformat": 4,
 "nbformat_minor": 2
}
